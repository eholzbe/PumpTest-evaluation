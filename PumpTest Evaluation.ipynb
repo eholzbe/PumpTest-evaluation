{
 "cells": [
  {
   "cell_type": "markdown",
   "metadata": {},
   "source": [
    "<font size = 6px, style=\"color:blue\">**Pumping Test Evaluation**</font>\n",
    "\n",
    "<font size = 4px> fitting to Theis and Hantush solutions</font>\n",
    "\n",
    "*Prof. habil. Dr.-Ing. Dipl.-Math. Ekkehard Holzbecher*"
   ]
  },
  {
   "cell_type": "markdown",
   "metadata": {
    "toc": true
   },
   "source": [
    "<h1>Table of Contents<span class=\"tocSkip\"></span></h1>\n",
    "<div class=\"toc\"><ul class=\"toc-item\"><li><span><a href=\"#Pump-Test\" data-toc-modified-id=\"Pump-Test-1\"><span class=\"toc-item-num\">1&nbsp;&nbsp;</span>Pump Test</a></span></li><li><span><a href=\"#Data-Read\" data-toc-modified-id=\"Data-Read-2\"><span class=\"toc-item-num\">2&nbsp;&nbsp;</span>Data Read</a></span><ul class=\"toc-item\"><li><span><a href=\"#Read-from-File\" data-toc-modified-id=\"Read-from-File-2.1\"><span class=\"toc-item-num\">2.1&nbsp;&nbsp;</span>Read from File</a></span></li><li><span><a href=\"#Read-from-Clipboard\" data-toc-modified-id=\"Read-from-Clipboard-2.2\"><span class=\"toc-item-num\">2.2&nbsp;&nbsp;</span>Read from Clipboard</a></span></li></ul></li><li><span><a href=\"#Data-View\" data-toc-modified-id=\"Data-View-3\"><span class=\"toc-item-num\">3&nbsp;&nbsp;</span>Data View</a></span></li><li><span><a href=\"#Parameter-Estimation\" data-toc-modified-id=\"Parameter-Estimation-4\"><span class=\"toc-item-num\">4&nbsp;&nbsp;</span>Parameter Estimation</a></span><ul class=\"toc-item\"><li><span><a href=\"#Evaluation-according-to-Theis\" data-toc-modified-id=\"Evaluation-according-to-Theis-4.1\"><span class=\"toc-item-num\">4.1&nbsp;&nbsp;</span>Evaluation according to Theis</a></span></li><li><span><a href=\"#Evaluation-according-to-Hantush\" data-toc-modified-id=\"Evaluation-according-to-Hantush-4.2\"><span class=\"toc-item-num\">4.2&nbsp;&nbsp;</span>Evaluation according to Hantush</a></span></li></ul></li><li><span><a href=\"#References\" data-toc-modified-id=\"References-5\"><span class=\"toc-item-num\">5&nbsp;&nbsp;</span>References</a></span></li></ul></div>"
   ]
  },
  {
   "cell_type": "markdown",
   "metadata": {},
   "source": [
    "# Pump Test "
   ]
  },
  {
   "cell_type": "markdown",
   "metadata": {},
   "source": [
    "To start, enter pump test identification! "
   ]
  },
  {
   "cell_type": "code",
   "execution_count": 1,
   "metadata": {
    "hide_input": true
   },
   "outputs": [
    {
     "data": {
      "application/vnd.jupyter.widget-view+json": {
       "model_id": "bee4b4c3b0104649927a3a879c0dbda3",
       "version_major": 2,
       "version_minor": 0
      },
      "text/plain": [
       "Text(value='ID', description='Pump test')"
      ]
     },
     "metadata": {},
     "output_type": "display_data"
    }
   ],
   "source": [
    "#from IPython.display import display\n",
    "import os\n",
    "import ipywidgets as widgets\n",
    "import pandas as pd\n",
    "import matplotlib.pyplot as plt\n",
    "import numpy as np\n",
    "from pint import UnitRegistry\n",
    "ureg = UnitRegistry()\n",
    "t1 = pd.Series([1.0]); s1 = pd.Series([1.0])   \n",
    "tdata = np.arange(1); sdata = np.arange(1)\n",
    "wheader = widgets.Text(value='ID', description='Pump test', disabled=False)\n",
    "wheader"
   ]
  },
  {
   "cell_type": "markdown",
   "metadata": {},
   "source": [
    "The pump test can be evaluated according to the solutions of Theis and Hantush for flow towards a single well with fully penetrating screen in a uniform aquifer of infinite extent having as yet unknown transmissivity $T$ and storativity $S$. In a confined aquifer according to Theis (1952) the solution for drawdown $s$ as function of distance from the pumping well $r$ and time $t$ is given by:"
   ]
  },
  {
   "cell_type": "markdown",
   "metadata": {},
   "source": [
    "$$ s(r, t) = \\frac Q {4 \\pi T} W(u),\\,\\,\\,\\, u = \\frac {r^2 S} {4 T t}$$"
   ]
  },
  {
   "cell_type": "markdown",
   "metadata": {},
   "source": [
    "$Q$ the pumping rate and $W$ is the well function, also known as exponential integral. The physical unit of transmissivity is area/time. The storativity is dimensionless.   "
   ]
  },
  {
   "cell_type": "markdown",
   "metadata": {},
   "source": [
    "For a leaky aquifer the drawdown is given by the Hantush well function $W$, which has two arguments:"
   ]
  },
  {
   "cell_type": "markdown",
   "metadata": {},
   "source": [
    "$$ s(r, t) = \\frac Q {4 \\pi T} W(u,r/\\lambda)$$"
   ]
  },
  {
   "cell_type": "markdown",
   "metadata": {},
   "source": [
    "with $\\lambda=\\sqrt{T\\cdot c}$ where $c$ denotes the resistance of the over-lying semipermeable layer, which is the third yet unknown parameter. The physcial unit of resistance is time. The equation was derived assuming an overall source (Hantush & Jacob 1955, Hantush 1956). Using the more realistic boundary condition at the top of the modelled cross-section Hantush (1967) showed conditions, under which the equation can be taken as a valid approximation. "
   ]
  },
  {
   "cell_type": "markdown",
   "metadata": {},
   "source": [
    "The physical units for time and space can be chosen by the modeller. SI units are used as default for physical units, i.e. [m] for spatial dimension, and [s] for time. Physical units for parameters in in- and output are derived from these settings. The data in the file can have different time and space dimensions. The read data values are converted into the units chosen here.    "
   ]
  },
  {
   "cell_type": "code",
   "execution_count": 2,
   "metadata": {
    "hide_input": true,
    "scrolled": true
   },
   "outputs": [
    {
     "data": {
      "application/vnd.jupyter.widget-view+json": {
       "model_id": "7c0e86ae3f64411bb6761ace5c61afbd",
       "version_major": 2,
       "version_minor": 0
      },
      "text/plain": [
       "Dropdown(description='length unit', index=3, options=('mm', 'cm', 'dm', 'm'), value='m')"
      ]
     },
     "metadata": {},
     "output_type": "display_data"
    },
    {
     "data": {
      "application/vnd.jupyter.widget-view+json": {
       "model_id": "da0b5d033bd64638bf90dfadc5996193",
       "version_major": 2,
       "version_minor": 0
      },
      "text/plain": [
       "Dropdown(description='time unit', options=('s', 'min', 'h', 'd'), value='s')"
      ]
     },
     "metadata": {},
     "output_type": "display_data"
    }
   ],
   "source": [
    "Lunits = widgets.Dropdown(\n",
    "    options=['mm','cm','dm','m'], value='m', description = \"length unit\"\n",
    ")\n",
    "Tunits = widgets.Dropdown(\n",
    "    options=['s','min','h','d'], value='s', description = \"time unit\"\n",
    ")\n",
    "\n",
    "def dropdown_eventhandler(change):\n",
    "    pass\n",
    "\n",
    "Lunits.observe(dropdown_eventhandler, names='value')\n",
    "Tunits.observe(dropdown_eventhandler, names='value')\n",
    "display(Lunits)\n",
    "display(Tunits)"
   ]
  },
  {
   "cell_type": "markdown",
   "metadata": {
    "hide_input": true
   },
   "source": [
    "Enter distance between pumping well and observation point! Use the dot for decimals."
   ]
  },
  {
   "cell_type": "code",
   "execution_count": 3,
   "metadata": {
    "hide_input": true,
    "scrolled": false
   },
   "outputs": [
    {
     "data": {
      "application/vnd.jupyter.widget-view+json": {
       "model_id": "dc35ba10053d48d193d11c93bfff0ba2",
       "version_major": 2,
       "version_minor": 0
      },
      "text/plain": [
       "BoundedFloatText(value=30.0, description='Distance:', max=1000.0, step=1.0)"
      ]
     },
     "metadata": {},
     "output_type": "display_data"
    }
   ],
   "source": [
    "wr = widgets.BoundedFloatText(value=30.0, min=0, max=1000.0, step=1, description='Distance:', disabled=False)\n",
    "wr"
   ]
  },
  {
   "cell_type": "markdown",
   "metadata": {},
   "source": [
    "Enter the pumping rate using length and time units as specified above."
   ]
  },
  {
   "cell_type": "code",
   "execution_count": 4,
   "metadata": {
    "hide_input": true,
    "scrolled": false
   },
   "outputs": [
    {
     "data": {
      "application/vnd.jupyter.widget-view+json": {
       "model_id": "e7221053ae9e4b6c93a217c3254543c7",
       "version_major": 2,
       "version_minor": 0
      },
      "text/plain": [
       "BoundedFloatText(value=0.00889, description='Pumprate:', max=10000.0)"
      ]
     },
     "metadata": {},
     "output_type": "display_data"
    }
   ],
   "source": [
    "wQ = widgets.BoundedFloatText(value=0.00889, min=0, max=10000.0, description='Pumprate:', disabled=False)\n",
    "wQ"
   ]
  },
  {
   "cell_type": "markdown",
   "metadata": {},
   "source": [
    "# Data Read"
   ]
  },
  {
   "cell_type": "markdown",
   "metadata": {
    "hide_input": true
   },
   "source": [
    "Pumptest data, time instants and observed drawdowns, are read from file or from clipboard. Use one of the options below. \n",
    "\n",
    "The physical units of read data can be different from the ones used in the evaluation. Specify the length and time units of drawdown and time values to be read! "
   ]
  },
  {
   "cell_type": "code",
   "execution_count": 5,
   "metadata": {
    "hide_input": true,
    "scrolled": false
   },
   "outputs": [
    {
     "data": {
      "application/vnd.jupyter.widget-view+json": {
       "model_id": "56f899add9714b9a8d7cbcf2ac38bc7c",
       "version_major": 2,
       "version_minor": 0
      },
      "text/plain": [
       "Dropdown(description='data length unit', index=3, options=('mm', 'cm', 'dm', 'm'), value='m')"
      ]
     },
     "metadata": {},
     "output_type": "display_data"
    },
    {
     "data": {
      "application/vnd.jupyter.widget-view+json": {
       "model_id": "f4872ffafc1d467d94abc49b37c0c5df",
       "version_major": 2,
       "version_minor": 0
      },
      "text/plain": [
       "Dropdown(description='data time unit', options=('s', 'min', 'h', 'd'), value='s')"
      ]
     },
     "metadata": {},
     "output_type": "display_data"
    }
   ],
   "source": [
    "dataLunits = widgets.Dropdown(\n",
    "    options=['mm','cm','dm','m'], value='m', description = \"data length unit\"\n",
    ")\n",
    "dataTunits = widgets.Dropdown(\n",
    "    options=['s','min','h','d'], value='s', description = \"data time unit\"\n",
    ")\n",
    "\n",
    "def dropdown_eventhandler(change):\n",
    "    pass\n",
    "\n",
    "dataLunits.observe(dropdown_eventhandler, names='value')\n",
    "dataTunits.observe(dropdown_eventhandler, names='value')\n",
    "display(dataLunits)\n",
    "display(dataTunits)"
   ]
  },
  {
   "cell_type": "markdown",
   "metadata": {
    "hide_input": false
   },
   "source": [
    "## Read from File\n",
    "The data for the pumping test are read from a file. That can be either an EXCEL file, a csv (comma separated values) file, or a tsv (tabulator separated file). Input data file name!"
   ]
  },
  {
   "cell_type": "code",
   "execution_count": 6,
   "metadata": {
    "hide_input": true,
    "scrolled": true
   },
   "outputs": [
    {
     "data": {
      "application/vnd.jupyter.widget-view+json": {
       "model_id": "c43a26ec099a4ec3abb64141e520a5c7",
       "version_major": 2,
       "version_minor": 0
      },
      "text/plain": [
       "HBox(children=(Text(value='ok.xlsx', description='Filename:'), Button(description='Read data from file', style…"
      ]
     },
     "metadata": {},
     "output_type": "display_data"
    }
   ],
   "source": [
    "def on_wf_clicked(self):\n",
    "    global t1, s1\n",
    "    fn = wfn.value\n",
    "    fn0,ext = os.path.splitext(fn)\n",
    "    if ext == '.xlsx':\n",
    "        y = pd.read_excel(fn,header=None) \n",
    "    else:\n",
    "        if ext == '.csv':\n",
    "            y = pd.read_csv(fn,header=None)\n",
    "        else:\n",
    "            if ext == '.tsv':\n",
    "                y = pd.read_csv(fn,header=None,sep='\\t')\n",
    "            else:\n",
    "                print ('Error: not supported file type')\n",
    "    t1 = y[0].dropna(); s1 = y[1].dropna()\n",
    "    \n",
    "wfn = widgets.Text(value='ok.xlsx', description='Filename:', disabled=False)    \n",
    "wf = widgets.Button(description='Read data from file')        \n",
    "wf.on_click(on_wf_clicked)   \n",
    "widgets.HBox([wfn,wf])"
   ]
  },
  {
   "cell_type": "raw",
   "metadata": {},
   "source": [
    "import tkinter as tk\n",
    "from tkinter import filedialog\n",
    "\n",
    "root = tk.Tk()\n",
    "root.withdraw()\n",
    "\n",
    "file_path = filedialog.askopenfilename()"
   ]
  },
  {
   "cell_type": "markdown",
   "metadata": {
    "hide_input": true
   },
   "source": [
    "## Read from Clipboard\n",
    "Read data from clipboard:"
   ]
  },
  {
   "cell_type": "code",
   "execution_count": 7,
   "metadata": {
    "hide_input": true,
    "scrolled": true
   },
   "outputs": [
    {
     "data": {
      "application/vnd.jupyter.widget-view+json": {
       "model_id": "07db49f78d6b4c7b9415d0c89925d500",
       "version_major": 2,
       "version_minor": 0
      },
      "text/plain": [
       "HBox(children=(Button(description='Input time data', style=ButtonStyle()), Button(description='Input drawdown …"
      ]
     },
     "metadata": {},
     "output_type": "display_data"
    }
   ],
   "source": [
    "def on_wt_clicked(_):\n",
    "    global t1\n",
    "    t = pd.read_clipboard(header=None,decimal=',').squeeze()\n",
    "    t1 = pd.to_numeric(t, downcast='float')\n",
    "    \n",
    "def on_ws_clicked(_):\n",
    "    global s1\n",
    "    s = pd.read_clipboard(header=None,decimal=',').squeeze()\n",
    "    s1 = pd.to_numeric(s, downcast='float')\n",
    "            \n",
    "wt = widgets.Button(description='Input time data', disabled=False)        \n",
    "wt.on_click(on_wt_clicked)\n",
    "ws = widgets.Button(description='Input drawdown data',disabled=False)        \n",
    "ws.on_click(on_ws_clicked)\n",
    "widgets.HBox([wt,ws])"
   ]
  },
  {
   "cell_type": "code",
   "execution_count": 8,
   "metadata": {
    "hide_input": true
   },
   "outputs": [],
   "source": [
    "def uconvert (t1,s1):\n",
    "    tdatau = t1.values * ureg(dataTunits.value); sdatau = s1.values * ureg(dataLunits.value)\n",
    "    tdata = tdatau.to(Tunits.value).magnitude; sdata = sdatau.to(Lunits.value).magnitude\n",
    "    return tdata,sdata"
   ]
  },
  {
   "cell_type": "markdown",
   "metadata": {},
   "source": [
    "# Data View"
   ]
  },
  {
   "cell_type": "markdown",
   "metadata": {},
   "source": [
    "Plot data in real scale, time log scale, double log scale and double log! Click the cotresponding buttons!"
   ]
  },
  {
   "cell_type": "code",
   "execution_count": 9,
   "metadata": {
    "hide_input": true,
    "scrolled": false
   },
   "outputs": [
    {
     "data": {
      "application/vnd.jupyter.widget-view+json": {
       "model_id": "bf7f3c62c5704b55acb4320aa7b31d60",
       "version_major": 2,
       "version_minor": 0
      },
      "text/plain": [
       "VBox(children=(Button(description='Plot data', style=ButtonStyle()),))"
      ]
     },
     "metadata": {},
     "output_type": "display_data"
    }
   ],
   "source": [
    "%matplotlib notebook\n",
    "%matplotlib notebook\n",
    "#import matplotlib.ticker as ticker\n",
    "plt.rcParams[\"figure.figsize\"] = (10,5) \n",
    "plt.rcParams['axes.facecolor'] = 'lightgray';\n",
    "\n",
    "def on_wp1_clicked(self): \n",
    "    fig = plt.figure(facecolor='w'); ax = plt.gca() #ax = fig.add_subplot()\n",
    "    #plt.yticks(np.arange(0., 1.0, step = 0.1))\n",
    "    [tdata,sdata] = uconvert(t1,s1)\n",
    "    plt.plot (tdata,sdata, '.-', label = 'observation' )\n",
    "    #ax.set_ylim([0.0,1.0])\n",
    "    #plt.ylim (0,1.0)\n",
    "    #locs, labels = plt.yticks(np.arange(0, 1.0, step = 0.1))\n",
    "    plt.title(wheader.value)\n",
    "    plt.xlabel('time ['+Tunits.value+']')\n",
    "    plt.ylabel('drawdown ['+Lunits.value+']')\n",
    "    #loc = ticker.MultipleLocator(base=1.0) # this locator puts ticks at regular intervals\n",
    "    #ax.yaxis.set_major_locator(loc)\n",
    "    #ax.yaxis.set_major_locator(ticker.MultipleLocator(10))\n",
    "    ax.grid(b=True, c='w', lw=2, ls='-')\n",
    "    plt.legend(loc='center right');\n",
    "    \n",
    "wp1 = widgets.Button(description='Plot data')        \n",
    "wp1.on_click(on_wp1_clicked)   \n",
    "widgets.VBox([wp1])    "
   ]
  },
  {
   "cell_type": "code",
   "execution_count": 10,
   "metadata": {
    "hide_input": true,
    "scrolled": false
   },
   "outputs": [
    {
     "data": {
      "application/vnd.jupyter.widget-view+json": {
       "model_id": "6fcbc3e9654448db9a20adf5aa9c4d38",
       "version_major": 2,
       "version_minor": 0
      },
      "text/plain": [
       "VBox(children=(Button(description='Plot log scale', style=ButtonStyle()),))"
      ]
     },
     "metadata": {},
     "output_type": "display_data"
    }
   ],
   "source": [
    "%matplotlib notebook\n",
    "%matplotlib notebook\n",
    "plt.rcParams[\"figure.figsize\"] = (10,5) \n",
    "plt.rcParams['axes.facecolor'] = 'lightgray';\n",
    "\n",
    "def on_wp2_clicked(self):\n",
    "    fig = plt.figure(facecolor='w'); ax = fig.add_subplot()\n",
    "    ax.set_xscale('log')\n",
    "    [tdata,sdata] = uconvert(t1,s1)\n",
    "    plt.plot (tdata,sdata, '.-', label = 'observation' )\n",
    "    #plt.plot (t1,s1, '.-', label = 'observation' )\n",
    "    plt.title(wheader.value)\n",
    "    plt.xlabel('time ['+dataTunits.value+']')\n",
    "    plt.ylabel('drawdown ['+dataLunits.value+']')\n",
    "    ax.grid(b=True, c='w', lw=2, ls='-')\n",
    "    plt.legend(loc = 'upper left');\n",
    "\n",
    "wp2 = widgets.Button(description='Plot log scale')        \n",
    "wp2.on_click(on_wp2_clicked)   \n",
    "widgets.VBox([wp2]) "
   ]
  },
  {
   "cell_type": "code",
   "execution_count": 11,
   "metadata": {
    "hide_input": true,
    "scrolled": false
   },
   "outputs": [
    {
     "data": {
      "application/vnd.jupyter.widget-view+json": {
       "model_id": "352c32ea9cc74189a67fa92cd7d278ad",
       "version_major": 2,
       "version_minor": 0
      },
      "text/plain": [
       "VBox(children=(Button(description='Plot loglog scale', style=ButtonStyle()),))"
      ]
     },
     "metadata": {},
     "output_type": "display_data"
    }
   ],
   "source": [
    "%matplotlib notebook\n",
    "%matplotlib notebook\n",
    "plt.rcParams[\"figure.figsize\"] = (10,5) \n",
    "plt.rcParams['axes.facecolor'] = 'lightgray';\n",
    "\n",
    "def on_wp3_clicked(self): \n",
    "    fig = plt.figure(facecolor='w'); ax = fig.add_subplot()\n",
    "    ax.set_xscale('log'); ax.set_yscale('log')\n",
    "    [tdata,sdata] = uconvert(t1,s1)\n",
    "    plt.plot (tdata,sdata, '.-', label = 'observation' )\n",
    "    #plt.plot (t1,s1, '.-', label = 'observation' )\n",
    "    plt.title(wheader.value)\n",
    "    plt.xlabel('time ['+dataTunits.value+']')\n",
    "    plt.ylabel('drawdown ['+dataLunits.value+']')\n",
    "    ax.grid(b=True, c='w', lw=2, ls='-')\n",
    "    plt.legend(loc = 'lower right');\n",
    "\n",
    "wp3 = widgets.Button(description='Plot loglog scale')        \n",
    "wp3.on_click(on_wp3_clicked)   \n",
    "widgets.VBox([wp3]) "
   ]
  },
  {
   "cell_type": "markdown",
   "metadata": {
    "hide_input": false
   },
   "source": [
    "# Parameter Estimation"
   ]
  },
  {
   "cell_type": "markdown",
   "metadata": {},
   "source": [
    "Enter initial guesses for $T$ and $S$! The physical unit of transmissivity is derived from the length and time settings above. "
   ]
  },
  {
   "cell_type": "code",
   "execution_count": 12,
   "metadata": {
    "hide_input": true,
    "scrolled": false
   },
   "outputs": [
    {
     "data": {
      "application/vnd.jupyter.widget-view+json": {
       "model_id": "831e407263034e3e955b92c9eb1c299e",
       "version_major": 2,
       "version_minor": 0
      },
      "text/plain": [
       "HBox(children=(FloatText(value=0.005, description='T:'), FloatText(value=0.0001, description='S:')))"
      ]
     },
     "metadata": {},
     "output_type": "display_data"
    }
   ],
   "source": [
    "wT = widgets.FloatText(value=5e-3, description='T:', min=1.e-10, disabled=False)\n",
    "wS = widgets.FloatText(value=1e-4, description='S:', min=1.e-10, disabled=False)\n",
    "widgets.HBox([wT, wS])"
   ]
  },
  {
   "cell_type": "markdown",
   "metadata": {
    "hide_input": true
   },
   "source": [
    "## Evaluation according to Theis\n",
    "\n",
    "For evaluating the pump test according to the formula of Theis click the button! The well function is computed using the exponential integral from the Python module *scipy.special*. "
   ]
  },
  {
   "cell_type": "code",
   "execution_count": 13,
   "metadata": {
    "hide_input": true,
    "scrolled": false
   },
   "outputs": [
    {
     "data": {
      "application/vnd.jupyter.widget-view+json": {
       "model_id": "a879f01ac26e44b0ae5cd7c6fb513f6b",
       "version_major": 2,
       "version_minor": 0
      },
      "text/plain": [
       "VBox(children=(Button(description='Evaluate Theis', style=ButtonStyle()),))"
      ]
     },
     "metadata": {},
     "output_type": "display_data"
    }
   ],
   "source": [
    "from scipy.special import exp1\n",
    "from scipy.optimize import fmin\n",
    "\n",
    "def toptim (x):       \n",
    "    T = x[0]; S = x[1]; D = T/S         # calculate Theis solution\n",
    "    u = (((wr.value*wr.value)/4)/D)/tdata\n",
    "    s = wQ.value*exp1(u)/4/np.pi/T\n",
    "    res = (s-sdata)\n",
    "    return sum(res*res)                 # function f to be minimized\n",
    "\n",
    "def on_weval1_clicked(self):            # convert input data\n",
    "    global tdata,sdata\n",
    "    [tdata,sdata] = uconvert(t1,s1)\n",
    "    #tdata = tdatau.to(Tunits.value).magnitude; sdata = sdatau.to(Lunits.value).magnitude\n",
    "    r = wr.value; ru = r * ureg(Lunits.value); print('Distance between wells: ', end =\" \"); print(ru)\n",
    "    Q = wQ.value; Qu = Q * ureg(Lunits.value+'**3/'+Tunits.value); print('Pumping rate: ', end =\" \"); print(Qu)\n",
    "    T = wT.value; Tu = T * ureg(Lunits.value+'**2/'+Tunits.value); print('Transmissivity, initial guess: ', end =\" \");print(Tu)\n",
    "    S = wS.value; Su = S * ureg(''); print('Storativity, initial guess: ', end =\" \"); print(Su)\n",
    "\n",
    "    # parameter estimation---------------------------------------------------------\n",
    "    [Tfit,Sfit] = fmin (toptim, [T,S])\n",
    "    T = Tfit * ureg(Lunits.value+'**2/'+Tunits.value) \n",
    "    S = Sfit * ureg('') \n",
    "\n",
    "    # post-processing--------------------------------------------------------------   \n",
    "    D = Tfit/Sfit #print ('Diffusivity = '+ str(D * ureg(Lunits.value+'**2/'+Tunits.value)))\n",
    "    u = (((r*r)/4)/D)/tdata\n",
    "    s = Q*exp1(u)/4/np.pi/Tfit\n",
    "    dev = sdata-s     \n",
    "    dev2 = dev*dev; res = np.sqrt(sum(dev2)) \n",
    "    stde = np.sqrt(dev2.mean())\n",
    "    sr = 2*dev.std()                            # to compare with hytool !\n",
    "    fig = plt.figure(facecolor='w'); ax = fig.add_subplot()\n",
    "    ax.set_xscale('log')\n",
    "    plt.plot(tdata,sdata,'o',label = 'measured') \n",
    "    t = np.logspace(np.log10(tdata.min()),np.log10(tdata.max()),100)\n",
    "    u = (((r*r)/4)/D)/t\n",
    "    plt.plot(t,Q*exp1(u)/4/np.pi/Tfit,'-', label = 'modelled', lw = 2)\n",
    "    plt.xlabel('t ['+Tunits.value+']'); plt.ylabel('s ['+Lunits.value+']')\n",
    "    plt.title (wheader.value)\n",
    "    ax.grid(b=True, c='w', lw=2, ls='-')\n",
    "    plt.legend ()\n",
    "    xtext = 0.1*tdata.max()\n",
    "    ax.text (xtext,0.5*s1.max(),'$T =%.3e %s ^2/ %s $' % (Tfit,Lunits.value,Tunits.value))\n",
    "    ax.text (xtext,0.4*s1.max(),'$S =%.3e $' % (Sfit, ))\n",
    "    ax.text (xtext,0.3*s1.max(),'$res = %.3e $' % (res, ))\n",
    "    ax.text (xtext,0.2*s1.max(),'$stdev =%.3e $' % (stde, ));\n",
    "    ax.text (xtext,0.1*s1.max(),'$2stdev =%.3e $' % (sr, ));\n",
    "    \n",
    "weval1 = widgets.Button(description='Evaluate Theis')        \n",
    "weval1.on_click(on_weval1_clicked)   \n",
    "widgets.VBox([weval1])    "
   ]
  },
  {
   "cell_type": "markdown",
   "metadata": {},
   "source": [
    "## Evaluation according to Hantush\n",
    "For the evaluation according to Hantush enter an initial guess for the semi-permeable layer resistence. Use the time unit specified above."
   ]
  },
  {
   "cell_type": "code",
   "execution_count": 14,
   "metadata": {
    "hide_input": true,
    "scrolled": false
   },
   "outputs": [
    {
     "data": {
      "application/vnd.jupyter.widget-view+json": {
       "model_id": "0e6152b864dc4b2a87d7746dea17a693",
       "version_major": 2,
       "version_minor": 0
      },
      "text/plain": [
       "HBox(children=(FloatText(value=100000000.0, description='c:'),))"
      ]
     },
     "metadata": {},
     "output_type": "display_data"
    }
   ],
   "source": [
    "wc = widgets.FloatText(value=1e8, description='c:', min=1.e-10, disabled=False)\n",
    "widgets.HBox([wc])"
   ]
  },
  {
   "cell_type": "markdown",
   "metadata": {},
   "source": [
    "The Hantush well function is computed following Maas & Veling (2010) and Veling & Maas (2010), using the exponential integral from the Python module *scipy.special*. For evaluating the pump test according to the formula of Hantush click the button!"
   ]
  },
  {
   "cell_type": "code",
   "execution_count": 15,
   "metadata": {
    "hide_input": true
   },
   "outputs": [
    {
     "data": {
      "application/vnd.jupyter.widget-view+json": {
       "model_id": "62e17bc7acac4420a21ad13c5cf7fbd8",
       "version_major": 2,
       "version_minor": 0
      },
      "text/plain": [
       "VBox(children=(Button(description='Evaluate Hantush', style=ButtonStyle()),))"
      ]
     },
     "metadata": {},
     "output_type": "display_data"
    }
   ],
   "source": [
    "from scipy.special import exp1\n",
    "from scipy.special import kn as BesselK\n",
    "from scipy.optimize import fmin  #fmin_l_bfgs_b\n",
    "\n",
    "def heval (t,r,T,S,c,Q):\n",
    "    T0  = np.where(T>1.e-10,T,1.e-10) \n",
    "    S0  = np.where(S>1.e-10,S,1.e-10)\n",
    "    c0  = np.where(c>1.e-10,c,1.e-10)\n",
    "    lamda = np.sqrt(T0*c0)\n",
    "    rho = r/lamda\n",
    "    tau = np.log(2*lamda/r*t/(c0*S0))\n",
    "    s = Q/(4*np.pi*T0)*func_F(rho,tau)\n",
    "    return s                            # drawdown \n",
    "\n",
    "def func_F(rho,tau):\n",
    "    # func_F is a fast approximation of Hantush well function W\n",
    "    e = exp1(rho)\n",
    "    e0 = np.where(e>0,e,1.e-10)\n",
    "    w = (e0-BesselK(0,rho))/(e0-exp1(rho/2))\n",
    "    #if tau <= 0:\n",
    "    F0 = w*exp1(rho/2*np.exp(-tau))-(w-1)*exp1(rho*np.cosh(tau))\n",
    "    #else:   \n",
    "    F1 = 2*BesselK(0,rho) - w*exp1(rho/2*np.exp(tau)) + (w-1)*exp1(rho*np.cosh(tau))   \n",
    "    return (tau<=0)*F0+(tau>0)*F1     \n",
    "\n",
    "def optim (x):  \n",
    "    T = x[0]; S = x[1]; c = x[2] \n",
    "    s = heval (tdata,wr.value,T,S,c,wQ.value)\n",
    "    res = (s-sdata)\n",
    "    return sum(res*res)\n",
    "\n",
    "def on_weval2_clicked(self):   \n",
    "    global tdata,sdata\n",
    "    [tdata,sdata] = uconvert(t1,s1)\n",
    "    r = wr.value; ru = r * ureg(Lunits.value); print('Distance between wells: ', end =\" \"); print(ru)\n",
    "    Q = wQ.value; Qu = Q * ureg(Lunits.value+'**3/'+Tunits.value); print('Pumping rate: ', end =\" \"); print(Qu)\n",
    "    T = wT.value; Tu = T * ureg(Lunits.value+'**2/'+Tunits.value); print('Transmissivity, initial guess: ', end =\" \");print(Tu)\n",
    "    S = wS.value; Su = S * ureg(''); print('Storativity, initial guess: ', end =\" \"); print(Su)\n",
    "    c = wc.value; cu = c * ureg(Tunits.value); print('Resistence, initial guess: ', end =\" \"); print(cu)\n",
    "\n",
    "    # parameter estimation \n",
    "    #x = fmin_l_bfgs_b(optim, [T,S,c], approx_grad=1, bounds=((1.e-10, 1.e10), (1.e-10, 1.e10), (1.e-10, 1.e10)))   \n",
    "    #Tfit = x[0][0]; Sfit = x[0][1]; cfit = x[0][2]\n",
    "    [Tfit,Sfit,cfit] = fmin (optim, [T,S,c])\n",
    "    T = Tfit * ureg(Lunits.value+'**2/'+Tunits.value) \n",
    "    S = Sfit * ureg('') \n",
    "    c = cfit * ureg(Tunits.value)\n",
    "\n",
    "    # post-processing--------------------------------------------------------------   \n",
    "    D = T/S #print ('D='+str(D))\n",
    "    s = heval (tdata,r,Tfit,Sfit,cfit,Q)\n",
    "    dev = sdata-s                             #sfit-s \n",
    "    dev2 = dev*dev; res = np.sqrt(sum(dev2)) \n",
    "    stde = np.sqrt(dev2.mean())\n",
    "    sr = 2*dev.std()                            # to compare with hytool !\n",
    "    fig = plt.figure(facecolor='w'); ax = fig.add_subplot()\n",
    "    ax.set_xscale('log')\n",
    "    plt.plot(tdata,sdata,'o',label = 'measured') \n",
    "    t = np.logspace(np.log10(tdata.min()),np.log10(tdata.max()),100)\n",
    "    plt.plot(t,heval(t,r,Tfit,Sfit,cfit,Q),'-', label = 'modelled', lw = 2)\n",
    "    plt.xlabel('t ['+Tunits.value+']'); plt.ylabel('s ['+Lunits.value+']')\n",
    "    plt.title (wheader.value)\n",
    "    ax.grid(b=True, c='w', lw=2, ls='-')\n",
    "    plt.legend ()\n",
    "    xtext = 0.1*tdata.max()\n",
    "    ax.text (xtext,0.5*s1.max(),'$T =%.3e %s ^2/ %s $' % (Tfit,Lunits.value,Tunits.value))\n",
    "    ax.text (xtext,0.4*s1.max(),'$S =%.3e $' % (Sfit, ))\n",
    "    ax.text (xtext,0.3*s1.max(),'$c =%.3e %s $' % (cfit,Tunits.value))\n",
    "    ax.text (xtext,0.2*s1.max(),'$res = %.3e $' % (res, ))\n",
    "    ax.text (xtext,0.1*s1.max(),'$stdev = %.3e $' % (stde, ))\n",
    "    ax.text (xtext,0,'$2stdev =%.3e $' % (sr, ));\n",
    "    \n",
    "weval2 = widgets.Button(description='Evaluate Hantush')        \n",
    "weval2.on_click(on_weval2_clicked)   \n",
    "widgets.VBox([weval2])"
   ]
  },
  {
   "cell_type": "markdown",
   "metadata": {},
   "source": [
    "# References"
   ]
  },
  {
   "cell_type": "markdown",
   "metadata": {},
   "source": [
    "* Hantush M.S., Flow of groundwater in relatively thick leaky aquifers, Water Res. Res., Vol. 3(2), 583-590, 1967\n",
    "* Hantush M.S., Jacob C.E., Non-steady radial flow in an infinite leaky aquifer, Trans. Am. Geophys. Union, Vol. 36, 95-100, 1955\n",
    "* Hantush M.S., Analysis of data from pumping tests in leaky aquifers, EOS, Vol. 37(6), 702-714, 1956\n",
    "* Maas C., Veling E.J.M., Een snelle benadering van de formuke van Hantush, Stromingen, Vol. 6(1), 60-69, 2010\n",
    "* Veling E.J.M, Maas C., Hantush well function revisited, Journal of Hydrology, Vol. 393(3), 381-388, 2010 \n",
    "* Theis C.V., The relation between the lowering of the piezometric surface and the rate and duration of discharge of a well using ground-water storage, Groundwater Notes Hydraulics, No. 5, 10p, 1952"
   ]
  },
  {
   "cell_type": "raw",
   "metadata": {},
   "source": [
    "2do: read data from csv and tsv files, option to omit first header line in file"
   ]
  }
 ],
 "metadata": {
  "kernelspec": {
   "display_name": "Python 3",
   "language": "python",
   "name": "python3"
  },
  "language_info": {
   "codemirror_mode": {
    "name": "ipython",
    "version": 3
   },
   "file_extension": ".py",
   "mimetype": "text/x-python",
   "name": "python",
   "nbconvert_exporter": "python",
   "pygments_lexer": "ipython3",
   "version": "3.7.6"
  },
  "toc": {
   "base_numbering": 1,
   "nav_menu": {},
   "number_sections": true,
   "sideBar": true,
   "skip_h1_title": false,
   "title_cell": "Table of Contents",
   "title_sidebar": "Contents",
   "toc_cell": true,
   "toc_position": {},
   "toc_section_display": true,
   "toc_window_display": true
  },
  "varInspector": {
   "cols": {
    "lenName": 16,
    "lenType": 16,
    "lenVar": 40
   },
   "kernels_config": {
    "python": {
     "delete_cmd_postfix": "",
     "delete_cmd_prefix": "del ",
     "library": "var_list.py",
     "varRefreshCmd": "print(var_dic_list())"
    },
    "r": {
     "delete_cmd_postfix": ") ",
     "delete_cmd_prefix": "rm(",
     "library": "var_list.r",
     "varRefreshCmd": "cat(var_dic_list()) "
    }
   },
   "position": {
    "height": "461.85px",
    "left": "660px",
    "right": "20px",
    "top": "187px",
    "width": "626px"
   },
   "types_to_exclude": [
    "module",
    "function",
    "builtin_function_or_method",
    "instance",
    "_Feature"
   ],
   "window_display": false
  }
 },
 "nbformat": 4,
 "nbformat_minor": 4
}
