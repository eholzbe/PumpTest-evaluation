{
 "cells": [
  {
   "cell_type": "markdown",
   "metadata": {
    "hideCode": false,
    "hidePrompt": false
   },
   "source": [
    "<font size = 6px, style=\"color:blue\">**Pumping Test Evaluation**</font>\n",
    "\n",
    "<font size = 4px> fitting to Theis and Hantush solutions</font>\n",
    "\n",
    "*Prof. habil. Dr.-Ing. Dipl.-Math. Ekkehard Holzbecher*"
   ]
  },
  {
   "cell_type": "markdown",
   "metadata": {
    "hideCode": false,
    "hidePrompt": false,
    "toc": true
   },
   "source": [
    "<h1>Table of Contents<span class=\"tocSkip\"></span></h1>\n",
    "<div class=\"toc\"><ul class=\"toc-item\"><li><span><a href=\"#Pump-Test\" data-toc-modified-id=\"Pump-Test-1\"><span class=\"toc-item-num\">1&nbsp;&nbsp;</span>Pump Test</a></span></li><li><span><a href=\"#Data-Read\" data-toc-modified-id=\"Data-Read-2\"><span class=\"toc-item-num\">2&nbsp;&nbsp;</span>Data Read</a></span><ul class=\"toc-item\"><li><span><a href=\"#Read-from-File\" data-toc-modified-id=\"Read-from-File-2.1\"><span class=\"toc-item-num\">2.1&nbsp;&nbsp;</span>Read from File</a></span></li><li><span><a href=\"#Read-from-Clipboard\" data-toc-modified-id=\"Read-from-Clipboard-2.2\"><span class=\"toc-item-num\">2.2&nbsp;&nbsp;</span>Read from Clipboard</a></span></li></ul></li><li><span><a href=\"#Data-View\" data-toc-modified-id=\"Data-View-3\"><span class=\"toc-item-num\">3&nbsp;&nbsp;</span>Data View</a></span></li><li><span><a href=\"#Parameter-Estimation\" data-toc-modified-id=\"Parameter-Estimation-4\"><span class=\"toc-item-num\">4&nbsp;&nbsp;</span>Parameter Estimation</a></span><ul class=\"toc-item\"><li><span><a href=\"#Evaluation-according-to-Theis\" data-toc-modified-id=\"Evaluation-according-to-Theis-4.1\"><span class=\"toc-item-num\">4.1&nbsp;&nbsp;</span>Evaluation according to Theis</a></span></li><li><span><a href=\"#Evaluation-according-to-Hantush\" data-toc-modified-id=\"Evaluation-according-to-Hantush-4.2\"><span class=\"toc-item-num\">4.2&nbsp;&nbsp;</span>Evaluation according to Hantush</a></span></li></ul></li><li><span><a href=\"#References\" data-toc-modified-id=\"References-5\"><span class=\"toc-item-num\">5&nbsp;&nbsp;</span>References</a></span></li></ul></div>"
   ]
  },
  {
   "cell_type": "markdown",
   "metadata": {
    "hideCode": false,
    "hidePrompt": false
   },
   "source": [
    "# Pump Test "
   ]
  },
  {
   "cell_type": "markdown",
   "metadata": {
    "hideCode": false,
    "hidePrompt": false
   },
   "source": [
    "To start, enter pump test identification! "
   ]
  },
  {
   "cell_type": "code",
   "execution_count": 1,
   "metadata": {
    "hideCode": false,
    "hidePrompt": false,
    "hide_input": false,
    "scrolled": true
   },
   "outputs": [
    {
     "data": {
      "application/vnd.jupyter.widget-view+json": {
       "model_id": "374e5d2dfa30431980c05922cca77734",
       "version_major": 2,
       "version_minor": 0
      },
      "text/plain": [
       "Text(value='ID', description='Pump test')"
      ]
     },
     "metadata": {},
     "output_type": "display_data"
    }
   ],
   "source": [
    "#from IPython.display import display\n",
    "import os\n",
    "import ipywidgets as widgets\n",
    "import pandas as pd\n",
    "import matplotlib.pyplot as plt\n",
    "import numpy as np\n",
    "from pint import UnitRegistry\n",
    "ureg = UnitRegistry()\n",
    "t1 = pd.Series([1.0]); s1 = pd.Series([1.0])   \n",
    "tdata = np.arange(1); sdata = np.arange(1)\n",
    "wheader = widgets.Text(value='ID', description='Pump test', disabled=False)\n",
    "wheader"
   ]
  },
  {
   "cell_type": "markdown",
   "metadata": {
    "hideCode": false,
    "hidePrompt": false
   },
   "source": [
    "The pump test can be evaluated according to the solutions of Theis and Hantush for flow towards a single well with fully penetrating screen in a uniform aquifer of infinite extent having as yet unknown transmissivity $T$ and storativity $S$. In a confined aquifer according to Theis (1952) the solution for drawdown $s$ as function of distance from the pumping well $r$ and time $t$ is given by:"
   ]
  },
  {
   "cell_type": "markdown",
   "metadata": {
    "hideCode": false,
    "hidePrompt": false
   },
   "source": [
    "$$ s(r, t) = \\frac Q {4 \\pi T} W(u),\\,\\,\\,\\, u = \\frac {r^2 S} {4 T t}$$"
   ]
  },
  {
   "cell_type": "markdown",
   "metadata": {
    "hideCode": false,
    "hidePrompt": false
   },
   "source": [
    "$Q$ the pumping rate and $W$ is the well function, also known as exponential integral. The physical unit of transmissivity is area/time. The storativity is dimensionless.   "
   ]
  },
  {
   "cell_type": "markdown",
   "metadata": {
    "hideCode": false,
    "hidePrompt": false
   },
   "source": [
    "For a leaky aquifer the drawdown is given by the Hantush well function $W$, which has two arguments:"
   ]
  },
  {
   "cell_type": "markdown",
   "metadata": {
    "hideCode": false,
    "hidePrompt": false
   },
   "source": [
    "$$ s(r, t) = \\frac Q {4 \\pi T} W(u,r/\\lambda)$$"
   ]
  },
  {
   "cell_type": "markdown",
   "metadata": {
    "hideCode": false,
    "hidePrompt": false
   },
   "source": [
    "with $\\lambda=\\sqrt{T\\cdot c}$ where $c$ denotes the resistance of the over-lying semipermeable layer, which is the third yet unknown parameter. The physcial unit of resistance is time. The equation was derived assuming an overall source (Hantush & Jacob 1955, Hantush 1956). Using the more realistic boundary condition at the top of the modelled cross-section Hantush (1967) showed conditions, under which the equation can be taken as a valid approximation. "
   ]
  },
  {
   "cell_type": "markdown",
   "metadata": {
    "hideCode": false,
    "hidePrompt": false
   },
   "source": [
    "The physical units for time and space can be chosen by the modeller. SI units are used as default for physical units, i.e. [m] for spatial dimension, and [s] for time. Physical units for parameters in in- and output are derived from these settings. The data in the file can have different time and space dimensions. The read data values are converted into the units chosen here.    "
   ]
  },
  {
   "cell_type": "code",
   "execution_count": 2,
   "metadata": {
    "hideCode": false,
    "hidePrompt": false,
    "hide_input": true,
    "scrolled": false
   },
   "outputs": [
    {
     "data": {
      "application/vnd.jupyter.widget-view+json": {
       "model_id": "fd9011a0e6b04dc7b20c82b6306c452a",
       "version_major": 2,
       "version_minor": 0
      },
      "text/plain": [
       "Dropdown(description='length unit', index=3, options=('mm', 'cm', 'dm', 'm'), value='m')"
      ]
     },
     "metadata": {},
     "output_type": "display_data"
    },
    {
     "data": {
      "application/vnd.jupyter.widget-view+json": {
       "model_id": "b9a33a5f90ab4939b31bb6a3d228a3c3",
       "version_major": 2,
       "version_minor": 0
      },
      "text/plain": [
       "Dropdown(description='time unit', options=('s', 'min', 'h', 'd'), value='s')"
      ]
     },
     "metadata": {},
     "output_type": "display_data"
    }
   ],
   "source": [
    "Lunits = widgets.Dropdown(\n",
    "    options=['mm','cm','dm','m'], value='m', description = \"length unit\"\n",
    ")\n",
    "Tunits = widgets.Dropdown(\n",
    "    options=['s','min','h','d'], value='s', description = \"time unit\"\n",
    ")\n",
    "\n",
    "def dropdown_eventhandler(change):\n",
    "    pass\n",
    "\n",
    "Lunits.observe(dropdown_eventhandler, names='value')\n",
    "Tunits.observe(dropdown_eventhandler, names='value')\n",
    "display(Lunits)\n",
    "display(Tunits)"
   ]
  },
  {
   "cell_type": "markdown",
   "metadata": {
    "hideCode": false,
    "hidePrompt": false,
    "hide_input": true
   },
   "source": [
    "Enter distance between pumping well and observation point! Use the dot for decimals."
   ]
  },
  {
   "cell_type": "code",
   "execution_count": 3,
   "metadata": {
    "hideCode": false,
    "hidePrompt": false,
    "hide_input": true,
    "scrolled": true
   },
   "outputs": [
    {
     "data": {
      "application/vnd.jupyter.widget-view+json": {
       "model_id": "85ac6ea5e17e46bd9c3a831211935798",
       "version_major": 2,
       "version_minor": 0
      },
      "text/plain": [
       "BoundedFloatText(value=30.0, description='Distance:', max=1000.0, step=1.0)"
      ]
     },
     "metadata": {},
     "output_type": "display_data"
    }
   ],
   "source": [
    "wr = widgets.BoundedFloatText(value=30.0, min=0, max=1000.0, step=1, description='Distance:', disabled=False)\n",
    "wr"
   ]
  },
  {
   "cell_type": "markdown",
   "metadata": {
    "hideCode": false,
    "hidePrompt": false
   },
   "source": [
    "Enter the pumping rate using length and time units as specified above."
   ]
  },
  {
   "cell_type": "code",
   "execution_count": 4,
   "metadata": {
    "hideCode": false,
    "hidePrompt": false,
    "hide_input": true,
    "scrolled": true
   },
   "outputs": [
    {
     "data": {
      "application/vnd.jupyter.widget-view+json": {
       "model_id": "5b46b46394164e2b85f1a3e590d5ccd1",
       "version_major": 2,
       "version_minor": 0
      },
      "text/plain": [
       "BoundedFloatText(value=0.00889, description='Pumprate:', max=10000.0)"
      ]
     },
     "metadata": {},
     "output_type": "display_data"
    }
   ],
   "source": [
    "wQ = widgets.BoundedFloatText(value=0.00889, min=0, max=10000.0, description='Pumprate:', disabled=False)\n",
    "wQ"
   ]
  },
  {
   "cell_type": "markdown",
   "metadata": {
    "hideCode": false,
    "hidePrompt": false
   },
   "source": [
    "# Data Read"
   ]
  },
  {
   "cell_type": "markdown",
   "metadata": {
    "hideCode": false,
    "hidePrompt": false,
    "hide_input": true
   },
   "source": [
    "Pumptest data, time instants and observed drawdowns, are read from file or from clipboard. Use one of the options below. \n",
    "\n",
    "The physical units of read data can be different from the ones used in the evaluation. Specify the length and time units of drawdown and time values to be read! "
   ]
  },
  {
   "cell_type": "code",
   "execution_count": 5,
   "metadata": {
    "hideCode": false,
    "hidePrompt": false,
    "hide_input": true,
    "scrolled": true
   },
   "outputs": [
    {
     "data": {
      "application/vnd.jupyter.widget-view+json": {
       "model_id": "3c14cbf66d0440a7bc01ffa367c6661b",
       "version_major": 2,
       "version_minor": 0
      },
      "text/plain": [
       "Dropdown(description='data length unit', index=3, options=('mm', 'cm', 'dm', 'm'), value='m')"
      ]
     },
     "metadata": {},
     "output_type": "display_data"
    },
    {
     "data": {
      "application/vnd.jupyter.widget-view+json": {
       "model_id": "87a38d722edd40d3a834d4da221daf38",
       "version_major": 2,
       "version_minor": 0
      },
      "text/plain": [
       "Dropdown(description='data time unit', options=('s', 'min', 'h', 'd'), value='s')"
      ]
     },
     "metadata": {},
     "output_type": "display_data"
    }
   ],
   "source": [
    "dataLunits = widgets.Dropdown(\n",
    "    options=['mm','cm','dm','m'], value='m', description = \"data length unit\"\n",
    ")\n",
    "dataTunits = widgets.Dropdown(\n",
    "    options=['s','min','h','d'], value='s', description = \"data time unit\"\n",
    ")\n",
    "\n",
    "def dropdown_eventhandler(change):\n",
    "    pass\n",
    "\n",
    "dataLunits.observe(dropdown_eventhandler, names='value')\n",
    "dataTunits.observe(dropdown_eventhandler, names='value')\n",
    "display(dataLunits)\n",
    "display(dataTunits)"
   ]
  },
  {
   "cell_type": "markdown",
   "metadata": {
    "hideCode": false,
    "hidePrompt": false,
    "hide_input": false
   },
   "source": [
    "## Read from File\n",
    "The data for the pumping test are read from a file. That can be either an EXCEL file, a csv (comma separated values) file, or a tsv (tabulator separated file). Input data file name!"
   ]
  },
  {
   "cell_type": "raw",
   "metadata": {
    "hideCode": false,
    "hidePrompt": false,
    "hide_input": true,
    "scrolled": true
   },
   "source": [
    "import tkinter as tk\n",
    "from tkinter import filedialog\n",
    "\n",
    "def on_wf_clicked(self):\n",
    "    global t1, s1\n",
    "    fn = wfn.value\n",
    "    fn0,ext = os.path.splitext(fn)\n",
    "    if ext == '.xlsx':\n",
    "        y = pd.read_excel(fn,header=None) \n",
    "    else:\n",
    "        if ext == '.csv':\n",
    "            y = pd.read_csv(fn,header=None)\n",
    "        else:\n",
    "            if ext == '.tsv':\n",
    "                y = pd.read_csv(fn,header=None,sep='\\t')\n",
    "            else:\n",
    "                print ('Error: not supported file type')\n",
    "    t1 = y[0].dropna(); s1 = y[1].dropna()\n",
    "\n",
    "root = tk.Tk()\n",
    "root.withdraw()\n",
    "wfn = filedialog.askopenfilename()  \n",
    "print (wfn)\n",
    "wfn = widgets.Text(value='ok.xlsx', description='Filename:', disabled=False)    \n",
    "wf = widgets.Button(description='Read data from file')        \n",
    "wf.on_click(on_wf_clicked)   \n",
    "widgets.HBox([wfn,wf])"
   ]
  },
  {
   "cell_type": "markdown",
   "metadata": {
    "hideCode": false,
    "hidePrompt": false,
    "hide_input": true
   },
   "source": [
    "## Read from Clipboard\n",
    "Read data from clipboard:"
   ]
  },
  {
   "cell_type": "code",
   "execution_count": 6,
   "metadata": {
    "hideCode": false,
    "hidePrompt": false,
    "hide_input": false,
    "scrolled": false
   },
   "outputs": [
    {
     "data": {
      "application/vnd.jupyter.widget-view+json": {
       "model_id": "4cf11039e34c4f2b893fdd23ffc0108c",
       "version_major": 2,
       "version_minor": 0
      },
      "text/plain": [
       "HBox(children=(Button(description='Input time data', style=ButtonStyle()), Button(description='Input drawdown …"
      ]
     },
     "metadata": {},
     "output_type": "display_data"
    }
   ],
   "source": [
    "def on_wt_clicked(_):\n",
    "    global t1\n",
    "    t = pd.read_clipboard(header=None,decimal=',').squeeze()\n",
    "    t1 = pd.to_numeric(t, downcast='float')\n",
    "    \n",
    "def on_ws_clicked(_):\n",
    "    global s1\n",
    "    s = pd.read_clipboard(header=None,decimal=',').squeeze()\n",
    "    s1 = pd.to_numeric(s, downcast='float')\n",
    "            \n",
    "wt = widgets.Button(description='Input time data', disabled=False)        \n",
    "wt.on_click(on_wt_clicked)\n",
    "ws = widgets.Button(description='Input drawdown data',disabled=False)        \n",
    "ws.on_click(on_ws_clicked)\n",
    "widgets.HBox([wt,ws])"
   ]
  },
  {
   "cell_type": "code",
   "execution_count": 7,
   "metadata": {
    "hideCode": false,
    "hidePrompt": false,
    "hide_input": false,
    "scrolled": true
   },
   "outputs": [],
   "source": [
    "def uconvert (t1,s1):\n",
    "    tdatau = t1.values * ureg(dataTunits.value); sdatau = s1.values * ureg(dataLunits.value)\n",
    "    tdata = tdatau.to(Tunits.value).magnitude; sdata = sdatau.to(Lunits.value).magnitude\n",
    "    return tdata,sdata"
   ]
  },
  {
   "cell_type": "markdown",
   "metadata": {
    "hideCode": false,
    "hidePrompt": false
   },
   "source": [
    "# Data View"
   ]
  },
  {
   "cell_type": "markdown",
   "metadata": {
    "hideCode": false,
    "hidePrompt": false
   },
   "source": [
    "Plot data in real scale, time log scale, double log scale and double log! Click the cotresponding buttons!"
   ]
  },
  {
   "cell_type": "code",
   "execution_count": 8,
   "metadata": {
    "hideCode": false,
    "hidePrompt": false,
    "hide_input": false,
    "scrolled": true
   },
   "outputs": [
    {
     "data": {
      "application/vnd.jupyter.widget-view+json": {
       "model_id": "80c808a9dbf14b8088db970b01fb1f02",
       "version_major": 2,
       "version_minor": 0
      },
      "text/plain": [
       "VBox(children=(Button(description='Plot data', style=ButtonStyle()),))"
      ]
     },
     "metadata": {},
     "output_type": "display_data"
    },
    {
     "data": {
      "application/javascript": [
       "/* Put everything inside the global mpl namespace */\n",
       "window.mpl = {};\n",
       "\n",
       "\n",
       "mpl.get_websocket_type = function() {\n",
       "    if (typeof(WebSocket) !== 'undefined') {\n",
       "        return WebSocket;\n",
       "    } else if (typeof(MozWebSocket) !== 'undefined') {\n",
       "        return MozWebSocket;\n",
       "    } else {\n",
       "        alert('Your browser does not have WebSocket support. ' +\n",
       "              'Please try Chrome, Safari or Firefox ≥ 6. ' +\n",
       "              'Firefox 4 and 5 are also supported but you ' +\n",
       "              'have to enable WebSockets in about:config.');\n",
       "    };\n",
       "}\n",
       "\n",
       "mpl.figure = function(figure_id, websocket, ondownload, parent_element) {\n",
       "    this.id = figure_id;\n",
       "\n",
       "    this.ws = websocket;\n",
       "\n",
       "    this.supports_binary = (this.ws.binaryType != undefined);\n",
       "\n",
       "    if (!this.supports_binary) {\n",
       "        var warnings = document.getElementById(\"mpl-warnings\");\n",
       "        if (warnings) {\n",
       "            warnings.style.display = 'block';\n",
       "            warnings.textContent = (\n",
       "                \"This browser does not support binary websocket messages. \" +\n",
       "                    \"Performance may be slow.\");\n",
       "        }\n",
       "    }\n",
       "\n",
       "    this.imageObj = new Image();\n",
       "\n",
       "    this.context = undefined;\n",
       "    this.message = undefined;\n",
       "    this.canvas = undefined;\n",
       "    this.rubberband_canvas = undefined;\n",
       "    this.rubberband_context = undefined;\n",
       "    this.format_dropdown = undefined;\n",
       "\n",
       "    this.image_mode = 'full';\n",
       "\n",
       "    this.root = $('<div/>');\n",
       "    this._root_extra_style(this.root)\n",
       "    this.root.attr('style', 'display: inline-block');\n",
       "\n",
       "    $(parent_element).append(this.root);\n",
       "\n",
       "    this._init_header(this);\n",
       "    this._init_canvas(this);\n",
       "    this._init_toolbar(this);\n",
       "\n",
       "    var fig = this;\n",
       "\n",
       "    this.waiting = false;\n",
       "\n",
       "    this.ws.onopen =  function () {\n",
       "            fig.send_message(\"supports_binary\", {value: fig.supports_binary});\n",
       "            fig.send_message(\"send_image_mode\", {});\n",
       "            if (mpl.ratio != 1) {\n",
       "                fig.send_message(\"set_dpi_ratio\", {'dpi_ratio': mpl.ratio});\n",
       "            }\n",
       "            fig.send_message(\"refresh\", {});\n",
       "        }\n",
       "\n",
       "    this.imageObj.onload = function() {\n",
       "            if (fig.image_mode == 'full') {\n",
       "                // Full images could contain transparency (where diff images\n",
       "                // almost always do), so we need to clear the canvas so that\n",
       "                // there is no ghosting.\n",
       "                fig.context.clearRect(0, 0, fig.canvas.width, fig.canvas.height);\n",
       "            }\n",
       "            fig.context.drawImage(fig.imageObj, 0, 0);\n",
       "        };\n",
       "\n",
       "    this.imageObj.onunload = function() {\n",
       "        fig.ws.close();\n",
       "    }\n",
       "\n",
       "    this.ws.onmessage = this._make_on_message_function(this);\n",
       "\n",
       "    this.ondownload = ondownload;\n",
       "}\n",
       "\n",
       "mpl.figure.prototype._init_header = function() {\n",
       "    var titlebar = $(\n",
       "        '<div class=\"ui-dialog-titlebar ui-widget-header ui-corner-all ' +\n",
       "        'ui-helper-clearfix\"/>');\n",
       "    var titletext = $(\n",
       "        '<div class=\"ui-dialog-title\" style=\"width: 100%; ' +\n",
       "        'text-align: center; padding: 3px;\"/>');\n",
       "    titlebar.append(titletext)\n",
       "    this.root.append(titlebar);\n",
       "    this.header = titletext[0];\n",
       "}\n",
       "\n",
       "\n",
       "\n",
       "mpl.figure.prototype._canvas_extra_style = function(canvas_div) {\n",
       "\n",
       "}\n",
       "\n",
       "\n",
       "mpl.figure.prototype._root_extra_style = function(canvas_div) {\n",
       "\n",
       "}\n",
       "\n",
       "mpl.figure.prototype._init_canvas = function() {\n",
       "    var fig = this;\n",
       "\n",
       "    var canvas_div = $('<div/>');\n",
       "\n",
       "    canvas_div.attr('style', 'position: relative; clear: both; outline: 0');\n",
       "\n",
       "    function canvas_keyboard_event(event) {\n",
       "        return fig.key_event(event, event['data']);\n",
       "    }\n",
       "\n",
       "    canvas_div.keydown('key_press', canvas_keyboard_event);\n",
       "    canvas_div.keyup('key_release', canvas_keyboard_event);\n",
       "    this.canvas_div = canvas_div\n",
       "    this._canvas_extra_style(canvas_div)\n",
       "    this.root.append(canvas_div);\n",
       "\n",
       "    var canvas = $('<canvas/>');\n",
       "    canvas.addClass('mpl-canvas');\n",
       "    canvas.attr('style', \"left: 0; top: 0; z-index: 0; outline: 0\")\n",
       "\n",
       "    this.canvas = canvas[0];\n",
       "    this.context = canvas[0].getContext(\"2d\");\n",
       "\n",
       "    var backingStore = this.context.backingStorePixelRatio ||\n",
       "\tthis.context.webkitBackingStorePixelRatio ||\n",
       "\tthis.context.mozBackingStorePixelRatio ||\n",
       "\tthis.context.msBackingStorePixelRatio ||\n",
       "\tthis.context.oBackingStorePixelRatio ||\n",
       "\tthis.context.backingStorePixelRatio || 1;\n",
       "\n",
       "    mpl.ratio = (window.devicePixelRatio || 1) / backingStore;\n",
       "\n",
       "    var rubberband = $('<canvas/>');\n",
       "    rubberband.attr('style', \"position: absolute; left: 0; top: 0; z-index: 1;\")\n",
       "\n",
       "    var pass_mouse_events = true;\n",
       "\n",
       "    canvas_div.resizable({\n",
       "        start: function(event, ui) {\n",
       "            pass_mouse_events = false;\n",
       "        },\n",
       "        resize: function(event, ui) {\n",
       "            fig.request_resize(ui.size.width, ui.size.height);\n",
       "        },\n",
       "        stop: function(event, ui) {\n",
       "            pass_mouse_events = true;\n",
       "            fig.request_resize(ui.size.width, ui.size.height);\n",
       "        },\n",
       "    });\n",
       "\n",
       "    function mouse_event_fn(event) {\n",
       "        if (pass_mouse_events)\n",
       "            return fig.mouse_event(event, event['data']);\n",
       "    }\n",
       "\n",
       "    rubberband.mousedown('button_press', mouse_event_fn);\n",
       "    rubberband.mouseup('button_release', mouse_event_fn);\n",
       "    // Throttle sequential mouse events to 1 every 20ms.\n",
       "    rubberband.mousemove('motion_notify', mouse_event_fn);\n",
       "\n",
       "    rubberband.mouseenter('figure_enter', mouse_event_fn);\n",
       "    rubberband.mouseleave('figure_leave', mouse_event_fn);\n",
       "\n",
       "    canvas_div.on(\"wheel\", function (event) {\n",
       "        event = event.originalEvent;\n",
       "        event['data'] = 'scroll'\n",
       "        if (event.deltaY < 0) {\n",
       "            event.step = 1;\n",
       "        } else {\n",
       "            event.step = -1;\n",
       "        }\n",
       "        mouse_event_fn(event);\n",
       "    });\n",
       "\n",
       "    canvas_div.append(canvas);\n",
       "    canvas_div.append(rubberband);\n",
       "\n",
       "    this.rubberband = rubberband;\n",
       "    this.rubberband_canvas = rubberband[0];\n",
       "    this.rubberband_context = rubberband[0].getContext(\"2d\");\n",
       "    this.rubberband_context.strokeStyle = \"#000000\";\n",
       "\n",
       "    this._resize_canvas = function(width, height) {\n",
       "        // Keep the size of the canvas, canvas container, and rubber band\n",
       "        // canvas in synch.\n",
       "        canvas_div.css('width', width)\n",
       "        canvas_div.css('height', height)\n",
       "\n",
       "        canvas.attr('width', width * mpl.ratio);\n",
       "        canvas.attr('height', height * mpl.ratio);\n",
       "        canvas.attr('style', 'width: ' + width + 'px; height: ' + height + 'px;');\n",
       "\n",
       "        rubberband.attr('width', width);\n",
       "        rubberband.attr('height', height);\n",
       "    }\n",
       "\n",
       "    // Set the figure to an initial 600x600px, this will subsequently be updated\n",
       "    // upon first draw.\n",
       "    this._resize_canvas(600, 600);\n",
       "\n",
       "    // Disable right mouse context menu.\n",
       "    $(this.rubberband_canvas).bind(\"contextmenu\",function(e){\n",
       "        return false;\n",
       "    });\n",
       "\n",
       "    function set_focus () {\n",
       "        canvas.focus();\n",
       "        canvas_div.focus();\n",
       "    }\n",
       "\n",
       "    window.setTimeout(set_focus, 100);\n",
       "}\n",
       "\n",
       "mpl.figure.prototype._init_toolbar = function() {\n",
       "    var fig = this;\n",
       "\n",
       "    var nav_element = $('<div/>');\n",
       "    nav_element.attr('style', 'width: 100%');\n",
       "    this.root.append(nav_element);\n",
       "\n",
       "    // Define a callback function for later on.\n",
       "    function toolbar_event(event) {\n",
       "        return fig.toolbar_button_onclick(event['data']);\n",
       "    }\n",
       "    function toolbar_mouse_event(event) {\n",
       "        return fig.toolbar_button_onmouseover(event['data']);\n",
       "    }\n",
       "\n",
       "    for(var toolbar_ind in mpl.toolbar_items) {\n",
       "        var name = mpl.toolbar_items[toolbar_ind][0];\n",
       "        var tooltip = mpl.toolbar_items[toolbar_ind][1];\n",
       "        var image = mpl.toolbar_items[toolbar_ind][2];\n",
       "        var method_name = mpl.toolbar_items[toolbar_ind][3];\n",
       "\n",
       "        if (!name) {\n",
       "            // put a spacer in here.\n",
       "            continue;\n",
       "        }\n",
       "        var button = $('<button/>');\n",
       "        button.addClass('ui-button ui-widget ui-state-default ui-corner-all ' +\n",
       "                        'ui-button-icon-only');\n",
       "        button.attr('role', 'button');\n",
       "        button.attr('aria-disabled', 'false');\n",
       "        button.click(method_name, toolbar_event);\n",
       "        button.mouseover(tooltip, toolbar_mouse_event);\n",
       "\n",
       "        var icon_img = $('<span/>');\n",
       "        icon_img.addClass('ui-button-icon-primary ui-icon');\n",
       "        icon_img.addClass(image);\n",
       "        icon_img.addClass('ui-corner-all');\n",
       "\n",
       "        var tooltip_span = $('<span/>');\n",
       "        tooltip_span.addClass('ui-button-text');\n",
       "        tooltip_span.html(tooltip);\n",
       "\n",
       "        button.append(icon_img);\n",
       "        button.append(tooltip_span);\n",
       "\n",
       "        nav_element.append(button);\n",
       "    }\n",
       "\n",
       "    var fmt_picker_span = $('<span/>');\n",
       "\n",
       "    var fmt_picker = $('<select/>');\n",
       "    fmt_picker.addClass('mpl-toolbar-option ui-widget ui-widget-content');\n",
       "    fmt_picker_span.append(fmt_picker);\n",
       "    nav_element.append(fmt_picker_span);\n",
       "    this.format_dropdown = fmt_picker[0];\n",
       "\n",
       "    for (var ind in mpl.extensions) {\n",
       "        var fmt = mpl.extensions[ind];\n",
       "        var option = $(\n",
       "            '<option/>', {selected: fmt === mpl.default_extension}).html(fmt);\n",
       "        fmt_picker.append(option);\n",
       "    }\n",
       "\n",
       "    // Add hover states to the ui-buttons\n",
       "    $( \".ui-button\" ).hover(\n",
       "        function() { $(this).addClass(\"ui-state-hover\");},\n",
       "        function() { $(this).removeClass(\"ui-state-hover\");}\n",
       "    );\n",
       "\n",
       "    var status_bar = $('<span class=\"mpl-message\"/>');\n",
       "    nav_element.append(status_bar);\n",
       "    this.message = status_bar[0];\n",
       "}\n",
       "\n",
       "mpl.figure.prototype.request_resize = function(x_pixels, y_pixels) {\n",
       "    // Request matplotlib to resize the figure. Matplotlib will then trigger a resize in the client,\n",
       "    // which will in turn request a refresh of the image.\n",
       "    this.send_message('resize', {'width': x_pixels, 'height': y_pixels});\n",
       "}\n",
       "\n",
       "mpl.figure.prototype.send_message = function(type, properties) {\n",
       "    properties['type'] = type;\n",
       "    properties['figure_id'] = this.id;\n",
       "    this.ws.send(JSON.stringify(properties));\n",
       "}\n",
       "\n",
       "mpl.figure.prototype.send_draw_message = function() {\n",
       "    if (!this.waiting) {\n",
       "        this.waiting = true;\n",
       "        this.ws.send(JSON.stringify({type: \"draw\", figure_id: this.id}));\n",
       "    }\n",
       "}\n",
       "\n",
       "\n",
       "mpl.figure.prototype.handle_save = function(fig, msg) {\n",
       "    var format_dropdown = fig.format_dropdown;\n",
       "    var format = format_dropdown.options[format_dropdown.selectedIndex].value;\n",
       "    fig.ondownload(fig, format);\n",
       "}\n",
       "\n",
       "\n",
       "mpl.figure.prototype.handle_resize = function(fig, msg) {\n",
       "    var size = msg['size'];\n",
       "    if (size[0] != fig.canvas.width || size[1] != fig.canvas.height) {\n",
       "        fig._resize_canvas(size[0], size[1]);\n",
       "        fig.send_message(\"refresh\", {});\n",
       "    };\n",
       "}\n",
       "\n",
       "mpl.figure.prototype.handle_rubberband = function(fig, msg) {\n",
       "    var x0 = msg['x0'] / mpl.ratio;\n",
       "    var y0 = (fig.canvas.height - msg['y0']) / mpl.ratio;\n",
       "    var x1 = msg['x1'] / mpl.ratio;\n",
       "    var y1 = (fig.canvas.height - msg['y1']) / mpl.ratio;\n",
       "    x0 = Math.floor(x0) + 0.5;\n",
       "    y0 = Math.floor(y0) + 0.5;\n",
       "    x1 = Math.floor(x1) + 0.5;\n",
       "    y1 = Math.floor(y1) + 0.5;\n",
       "    var min_x = Math.min(x0, x1);\n",
       "    var min_y = Math.min(y0, y1);\n",
       "    var width = Math.abs(x1 - x0);\n",
       "    var height = Math.abs(y1 - y0);\n",
       "\n",
       "    fig.rubberband_context.clearRect(\n",
       "        0, 0, fig.canvas.width / mpl.ratio, fig.canvas.height / mpl.ratio);\n",
       "\n",
       "    fig.rubberband_context.strokeRect(min_x, min_y, width, height);\n",
       "}\n",
       "\n",
       "mpl.figure.prototype.handle_figure_label = function(fig, msg) {\n",
       "    // Updates the figure title.\n",
       "    fig.header.textContent = msg['label'];\n",
       "}\n",
       "\n",
       "mpl.figure.prototype.handle_cursor = function(fig, msg) {\n",
       "    var cursor = msg['cursor'];\n",
       "    switch(cursor)\n",
       "    {\n",
       "    case 0:\n",
       "        cursor = 'pointer';\n",
       "        break;\n",
       "    case 1:\n",
       "        cursor = 'default';\n",
       "        break;\n",
       "    case 2:\n",
       "        cursor = 'crosshair';\n",
       "        break;\n",
       "    case 3:\n",
       "        cursor = 'move';\n",
       "        break;\n",
       "    }\n",
       "    fig.rubberband_canvas.style.cursor = cursor;\n",
       "}\n",
       "\n",
       "mpl.figure.prototype.handle_message = function(fig, msg) {\n",
       "    fig.message.textContent = msg['message'];\n",
       "}\n",
       "\n",
       "mpl.figure.prototype.handle_draw = function(fig, msg) {\n",
       "    // Request the server to send over a new figure.\n",
       "    fig.send_draw_message();\n",
       "}\n",
       "\n",
       "mpl.figure.prototype.handle_image_mode = function(fig, msg) {\n",
       "    fig.image_mode = msg['mode'];\n",
       "}\n",
       "\n",
       "mpl.figure.prototype.updated_canvas_event = function() {\n",
       "    // Called whenever the canvas gets updated.\n",
       "    this.send_message(\"ack\", {});\n",
       "}\n",
       "\n",
       "// A function to construct a web socket function for onmessage handling.\n",
       "// Called in the figure constructor.\n",
       "mpl.figure.prototype._make_on_message_function = function(fig) {\n",
       "    return function socket_on_message(evt) {\n",
       "        if (evt.data instanceof Blob) {\n",
       "            /* FIXME: We get \"Resource interpreted as Image but\n",
       "             * transferred with MIME type text/plain:\" errors on\n",
       "             * Chrome.  But how to set the MIME type?  It doesn't seem\n",
       "             * to be part of the websocket stream */\n",
       "            evt.data.type = \"image/png\";\n",
       "\n",
       "            /* Free the memory for the previous frames */\n",
       "            if (fig.imageObj.src) {\n",
       "                (window.URL || window.webkitURL).revokeObjectURL(\n",
       "                    fig.imageObj.src);\n",
       "            }\n",
       "\n",
       "            fig.imageObj.src = (window.URL || window.webkitURL).createObjectURL(\n",
       "                evt.data);\n",
       "            fig.updated_canvas_event();\n",
       "            fig.waiting = false;\n",
       "            return;\n",
       "        }\n",
       "        else if (typeof evt.data === 'string' && evt.data.slice(0, 21) == \"data:image/png;base64\") {\n",
       "            fig.imageObj.src = evt.data;\n",
       "            fig.updated_canvas_event();\n",
       "            fig.waiting = false;\n",
       "            return;\n",
       "        }\n",
       "\n",
       "        var msg = JSON.parse(evt.data);\n",
       "        var msg_type = msg['type'];\n",
       "\n",
       "        // Call the  \"handle_{type}\" callback, which takes\n",
       "        // the figure and JSON message as its only arguments.\n",
       "        try {\n",
       "            var callback = fig[\"handle_\" + msg_type];\n",
       "        } catch (e) {\n",
       "            console.log(\"No handler for the '\" + msg_type + \"' message type: \", msg);\n",
       "            return;\n",
       "        }\n",
       "\n",
       "        if (callback) {\n",
       "            try {\n",
       "                // console.log(\"Handling '\" + msg_type + \"' message: \", msg);\n",
       "                callback(fig, msg);\n",
       "            } catch (e) {\n",
       "                console.log(\"Exception inside the 'handler_\" + msg_type + \"' callback:\", e, e.stack, msg);\n",
       "            }\n",
       "        }\n",
       "    };\n",
       "}\n",
       "\n",
       "// from http://stackoverflow.com/questions/1114465/getting-mouse-location-in-canvas\n",
       "mpl.findpos = function(e) {\n",
       "    //this section is from http://www.quirksmode.org/js/events_properties.html\n",
       "    var targ;\n",
       "    if (!e)\n",
       "        e = window.event;\n",
       "    if (e.target)\n",
       "        targ = e.target;\n",
       "    else if (e.srcElement)\n",
       "        targ = e.srcElement;\n",
       "    if (targ.nodeType == 3) // defeat Safari bug\n",
       "        targ = targ.parentNode;\n",
       "\n",
       "    // jQuery normalizes the pageX and pageY\n",
       "    // pageX,Y are the mouse positions relative to the document\n",
       "    // offset() returns the position of the element relative to the document\n",
       "    var x = e.pageX - $(targ).offset().left;\n",
       "    var y = e.pageY - $(targ).offset().top;\n",
       "\n",
       "    return {\"x\": x, \"y\": y};\n",
       "};\n",
       "\n",
       "/*\n",
       " * return a copy of an object with only non-object keys\n",
       " * we need this to avoid circular references\n",
       " * http://stackoverflow.com/a/24161582/3208463\n",
       " */\n",
       "function simpleKeys (original) {\n",
       "  return Object.keys(original).reduce(function (obj, key) {\n",
       "    if (typeof original[key] !== 'object')\n",
       "        obj[key] = original[key]\n",
       "    return obj;\n",
       "  }, {});\n",
       "}\n",
       "\n",
       "mpl.figure.prototype.mouse_event = function(event, name) {\n",
       "    var canvas_pos = mpl.findpos(event)\n",
       "\n",
       "    if (name === 'button_press')\n",
       "    {\n",
       "        this.canvas.focus();\n",
       "        this.canvas_div.focus();\n",
       "    }\n",
       "\n",
       "    var x = canvas_pos.x * mpl.ratio;\n",
       "    var y = canvas_pos.y * mpl.ratio;\n",
       "\n",
       "    this.send_message(name, {x: x, y: y, button: event.button,\n",
       "                             step: event.step,\n",
       "                             guiEvent: simpleKeys(event)});\n",
       "\n",
       "    /* This prevents the web browser from automatically changing to\n",
       "     * the text insertion cursor when the button is pressed.  We want\n",
       "     * to control all of the cursor setting manually through the\n",
       "     * 'cursor' event from matplotlib */\n",
       "    event.preventDefault();\n",
       "    return false;\n",
       "}\n",
       "\n",
       "mpl.figure.prototype._key_event_extra = function(event, name) {\n",
       "    // Handle any extra behaviour associated with a key event\n",
       "}\n",
       "\n",
       "mpl.figure.prototype.key_event = function(event, name) {\n",
       "\n",
       "    // Prevent repeat events\n",
       "    if (name == 'key_press')\n",
       "    {\n",
       "        if (event.which === this._key)\n",
       "            return;\n",
       "        else\n",
       "            this._key = event.which;\n",
       "    }\n",
       "    if (name == 'key_release')\n",
       "        this._key = null;\n",
       "\n",
       "    var value = '';\n",
       "    if (event.ctrlKey && event.which != 17)\n",
       "        value += \"ctrl+\";\n",
       "    if (event.altKey && event.which != 18)\n",
       "        value += \"alt+\";\n",
       "    if (event.shiftKey && event.which != 16)\n",
       "        value += \"shift+\";\n",
       "\n",
       "    value += 'k';\n",
       "    value += event.which.toString();\n",
       "\n",
       "    this._key_event_extra(event, name);\n",
       "\n",
       "    this.send_message(name, {key: value,\n",
       "                             guiEvent: simpleKeys(event)});\n",
       "    return false;\n",
       "}\n",
       "\n",
       "mpl.figure.prototype.toolbar_button_onclick = function(name) {\n",
       "    if (name == 'download') {\n",
       "        this.handle_save(this, null);\n",
       "    } else {\n",
       "        this.send_message(\"toolbar_button\", {name: name});\n",
       "    }\n",
       "};\n",
       "\n",
       "mpl.figure.prototype.toolbar_button_onmouseover = function(tooltip) {\n",
       "    this.message.textContent = tooltip;\n",
       "};\n",
       "mpl.toolbar_items = [[\"Home\", \"Reset original view\", \"fa fa-home icon-home\", \"home\"], [\"Back\", \"Back to previous view\", \"fa fa-arrow-left icon-arrow-left\", \"back\"], [\"Forward\", \"Forward to next view\", \"fa fa-arrow-right icon-arrow-right\", \"forward\"], [\"\", \"\", \"\", \"\"], [\"Pan\", \"Pan axes with left mouse, zoom with right\", \"fa fa-arrows icon-move\", \"pan\"], [\"Zoom\", \"Zoom to rectangle\", \"fa fa-square-o icon-check-empty\", \"zoom\"], [\"\", \"\", \"\", \"\"], [\"Download\", \"Download plot\", \"fa fa-floppy-o icon-save\", \"download\"]];\n",
       "\n",
       "mpl.extensions = [\"eps\", \"jpeg\", \"pdf\", \"png\", \"ps\", \"raw\", \"svg\", \"tif\"];\n",
       "\n",
       "mpl.default_extension = \"png\";var comm_websocket_adapter = function(comm) {\n",
       "    // Create a \"websocket\"-like object which calls the given IPython comm\n",
       "    // object with the appropriate methods. Currently this is a non binary\n",
       "    // socket, so there is still some room for performance tuning.\n",
       "    var ws = {};\n",
       "\n",
       "    ws.close = function() {\n",
       "        comm.close()\n",
       "    };\n",
       "    ws.send = function(m) {\n",
       "        //console.log('sending', m);\n",
       "        comm.send(m);\n",
       "    };\n",
       "    // Register the callback with on_msg.\n",
       "    comm.on_msg(function(msg) {\n",
       "        //console.log('receiving', msg['content']['data'], msg);\n",
       "        // Pass the mpl event to the overridden (by mpl) onmessage function.\n",
       "        ws.onmessage(msg['content']['data'])\n",
       "    });\n",
       "    return ws;\n",
       "}\n",
       "\n",
       "mpl.mpl_figure_comm = function(comm, msg) {\n",
       "    // This is the function which gets called when the mpl process\n",
       "    // starts-up an IPython Comm through the \"matplotlib\" channel.\n",
       "\n",
       "    var id = msg.content.data.id;\n",
       "    // Get hold of the div created by the display call when the Comm\n",
       "    // socket was opened in Python.\n",
       "    var element = $(\"#\" + id);\n",
       "    var ws_proxy = comm_websocket_adapter(comm)\n",
       "\n",
       "    function ondownload(figure, format) {\n",
       "        window.open(figure.imageObj.src);\n",
       "    }\n",
       "\n",
       "    var fig = new mpl.figure(id, ws_proxy,\n",
       "                           ondownload,\n",
       "                           element.get(0));\n",
       "\n",
       "    // Call onopen now - mpl needs it, as it is assuming we've passed it a real\n",
       "    // web socket which is closed, not our websocket->open comm proxy.\n",
       "    ws_proxy.onopen();\n",
       "\n",
       "    fig.parent_element = element.get(0);\n",
       "    fig.cell_info = mpl.find_output_cell(\"<div id='\" + id + \"'></div>\");\n",
       "    if (!fig.cell_info) {\n",
       "        console.error(\"Failed to find cell for figure\", id, fig);\n",
       "        return;\n",
       "    }\n",
       "\n",
       "    var output_index = fig.cell_info[2]\n",
       "    var cell = fig.cell_info[0];\n",
       "\n",
       "};\n",
       "\n",
       "mpl.figure.prototype.handle_close = function(fig, msg) {\n",
       "    var width = fig.canvas.width/mpl.ratio\n",
       "    fig.root.unbind('remove')\n",
       "\n",
       "    // Update the output cell to use the data from the current canvas.\n",
       "    fig.push_to_output();\n",
       "    var dataURL = fig.canvas.toDataURL();\n",
       "    // Re-enable the keyboard manager in IPython - without this line, in FF,\n",
       "    // the notebook keyboard shortcuts fail.\n",
       "    IPython.keyboard_manager.enable()\n",
       "    $(fig.parent_element).html('<img src=\"' + dataURL + '\" width=\"' + width + '\">');\n",
       "    fig.close_ws(fig, msg);\n",
       "}\n",
       "\n",
       "mpl.figure.prototype.close_ws = function(fig, msg){\n",
       "    fig.send_message('closing', msg);\n",
       "    // fig.ws.close()\n",
       "}\n",
       "\n",
       "mpl.figure.prototype.push_to_output = function(remove_interactive) {\n",
       "    // Turn the data on the canvas into data in the output cell.\n",
       "    var width = this.canvas.width/mpl.ratio\n",
       "    var dataURL = this.canvas.toDataURL();\n",
       "    this.cell_info[1]['text/html'] = '<img src=\"' + dataURL + '\" width=\"' + width + '\">';\n",
       "}\n",
       "\n",
       "mpl.figure.prototype.updated_canvas_event = function() {\n",
       "    // Tell IPython that the notebook contents must change.\n",
       "    IPython.notebook.set_dirty(true);\n",
       "    this.send_message(\"ack\", {});\n",
       "    var fig = this;\n",
       "    // Wait a second, then push the new image to the DOM so\n",
       "    // that it is saved nicely (might be nice to debounce this).\n",
       "    setTimeout(function () { fig.push_to_output() }, 1000);\n",
       "}\n",
       "\n",
       "mpl.figure.prototype._init_toolbar = function() {\n",
       "    var fig = this;\n",
       "\n",
       "    var nav_element = $('<div/>');\n",
       "    nav_element.attr('style', 'width: 100%');\n",
       "    this.root.append(nav_element);\n",
       "\n",
       "    // Define a callback function for later on.\n",
       "    function toolbar_event(event) {\n",
       "        return fig.toolbar_button_onclick(event['data']);\n",
       "    }\n",
       "    function toolbar_mouse_event(event) {\n",
       "        return fig.toolbar_button_onmouseover(event['data']);\n",
       "    }\n",
       "\n",
       "    for(var toolbar_ind in mpl.toolbar_items){\n",
       "        var name = mpl.toolbar_items[toolbar_ind][0];\n",
       "        var tooltip = mpl.toolbar_items[toolbar_ind][1];\n",
       "        var image = mpl.toolbar_items[toolbar_ind][2];\n",
       "        var method_name = mpl.toolbar_items[toolbar_ind][3];\n",
       "\n",
       "        if (!name) { continue; };\n",
       "\n",
       "        var button = $('<button class=\"btn btn-default\" href=\"#\" title=\"' + name + '\"><i class=\"fa ' + image + ' fa-lg\"></i></button>');\n",
       "        button.click(method_name, toolbar_event);\n",
       "        button.mouseover(tooltip, toolbar_mouse_event);\n",
       "        nav_element.append(button);\n",
       "    }\n",
       "\n",
       "    // Add the status bar.\n",
       "    var status_bar = $('<span class=\"mpl-message\" style=\"text-align:right; float: right;\"/>');\n",
       "    nav_element.append(status_bar);\n",
       "    this.message = status_bar[0];\n",
       "\n",
       "    // Add the close button to the window.\n",
       "    var buttongrp = $('<div class=\"btn-group inline pull-right\"></div>');\n",
       "    var button = $('<button class=\"btn btn-mini btn-primary\" href=\"#\" title=\"Stop Interaction\"><i class=\"fa fa-power-off icon-remove icon-large\"></i></button>');\n",
       "    button.click(function (evt) { fig.handle_close(fig, {}); } );\n",
       "    button.mouseover('Stop Interaction', toolbar_mouse_event);\n",
       "    buttongrp.append(button);\n",
       "    var titlebar = this.root.find($('.ui-dialog-titlebar'));\n",
       "    titlebar.prepend(buttongrp);\n",
       "}\n",
       "\n",
       "mpl.figure.prototype._root_extra_style = function(el){\n",
       "    var fig = this\n",
       "    el.on(\"remove\", function(){\n",
       "\tfig.close_ws(fig, {});\n",
       "    });\n",
       "}\n",
       "\n",
       "mpl.figure.prototype._canvas_extra_style = function(el){\n",
       "    // this is important to make the div 'focusable\n",
       "    el.attr('tabindex', 0)\n",
       "    // reach out to IPython and tell the keyboard manager to turn it's self\n",
       "    // off when our div gets focus\n",
       "\n",
       "    // location in version 3\n",
       "    if (IPython.notebook.keyboard_manager) {\n",
       "        IPython.notebook.keyboard_manager.register_events(el);\n",
       "    }\n",
       "    else {\n",
       "        // location in version 2\n",
       "        IPython.keyboard_manager.register_events(el);\n",
       "    }\n",
       "\n",
       "}\n",
       "\n",
       "mpl.figure.prototype._key_event_extra = function(event, name) {\n",
       "    var manager = IPython.notebook.keyboard_manager;\n",
       "    if (!manager)\n",
       "        manager = IPython.keyboard_manager;\n",
       "\n",
       "    // Check for shift+enter\n",
       "    if (event.shiftKey && event.which == 13) {\n",
       "        this.canvas_div.blur();\n",
       "        // select the cell after this one\n",
       "        var index = IPython.notebook.find_cell_index(this.cell_info[0]);\n",
       "        IPython.notebook.select(index + 1);\n",
       "    }\n",
       "}\n",
       "\n",
       "mpl.figure.prototype.handle_save = function(fig, msg) {\n",
       "    fig.ondownload(fig, null);\n",
       "}\n",
       "\n",
       "\n",
       "mpl.find_output_cell = function(html_output) {\n",
       "    // Return the cell and output element which can be found *uniquely* in the notebook.\n",
       "    // Note - this is a bit hacky, but it is done because the \"notebook_saving.Notebook\"\n",
       "    // IPython event is triggered only after the cells have been serialised, which for\n",
       "    // our purposes (turning an active figure into a static one), is too late.\n",
       "    var cells = IPython.notebook.get_cells();\n",
       "    var ncells = cells.length;\n",
       "    for (var i=0; i<ncells; i++) {\n",
       "        var cell = cells[i];\n",
       "        if (cell.cell_type === 'code'){\n",
       "            for (var j=0; j<cell.output_area.outputs.length; j++) {\n",
       "                var data = cell.output_area.outputs[j];\n",
       "                if (data.data) {\n",
       "                    // IPython >= 3 moved mimebundle to data attribute of output\n",
       "                    data = data.data;\n",
       "                }\n",
       "                if (data['text/html'] == html_output) {\n",
       "                    return [cell, data, j];\n",
       "                }\n",
       "            }\n",
       "        }\n",
       "    }\n",
       "}\n",
       "\n",
       "// Register the function which deals with the matplotlib target/channel.\n",
       "// The kernel may be null if the page has been refreshed.\n",
       "if (IPython.notebook.kernel != null) {\n",
       "    IPython.notebook.kernel.comm_manager.register_target('matplotlib', mpl.mpl_figure_comm);\n",
       "}\n"
      ],
      "text/plain": [
       "<IPython.core.display.Javascript object>"
      ]
     },
     "metadata": {},
     "output_type": "display_data"
    },
    {
     "data": {
      "text/html": [
       "<img src=\"data:image/png;base64,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\" width=\"1000\">"
      ],
      "text/plain": [
       "<IPython.core.display.HTML object>"
      ]
     },
     "metadata": {},
     "output_type": "display_data"
    }
   ],
   "source": [
    "%matplotlib notebook\n",
    "%matplotlib notebook\n",
    "#import matplotlib.ticker as ticker\n",
    "plt.rcParams[\"figure.figsize\"] = (10,5) \n",
    "plt.rcParams['axes.facecolor'] = 'lightgray';\n",
    "\n",
    "def on_wp1_clicked(self): \n",
    "    fig = plt.figure(facecolor='w'); ax = plt.gca() #ax = fig.add_subplot()\n",
    "    #plt.yticks(np.arange(0., 1.0, step = 0.1))\n",
    "    [tdata,sdata] = uconvert(t1,s1)\n",
    "    plt.plot (tdata,sdata, '.-', label = 'observation' )\n",
    "    #ax.set_ylim([0.0,1.0])\n",
    "    #plt.ylim (0,1.0)\n",
    "    #locs, labels = plt.yticks(np.arange(0, 1.0, step = 0.1))\n",
    "    plt.title(wheader.value)\n",
    "    plt.xlabel('time ['+Tunits.value+']')\n",
    "    plt.ylabel('drawdown ['+Lunits.value+']')\n",
    "    #loc = ticker.MultipleLocator(base=1.0) # this locator puts ticks at regular intervals\n",
    "    #ax.yaxis.set_major_locator(loc)\n",
    "    #ax.yaxis.set_major_locator(ticker.MultipleLocator(10))\n",
    "    ax.grid(b=True, c='w', lw=2, ls='-')\n",
    "    plt.legend(loc='center right');\n",
    "    \n",
    "wp1 = widgets.Button(description='Plot data')        \n",
    "wp1.on_click(on_wp1_clicked)   \n",
    "widgets.VBox([wp1])    "
   ]
  },
  {
   "cell_type": "code",
   "execution_count": 9,
   "metadata": {
    "hideCode": false,
    "hidePrompt": false,
    "hide_input": false,
    "scrolled": true
   },
   "outputs": [
    {
     "data": {
      "application/vnd.jupyter.widget-view+json": {
       "model_id": "550465e1a20e40a8b63c7bdaf305a805",
       "version_major": 2,
       "version_minor": 0
      },
      "text/plain": [
       "VBox(children=(Button(description='Plot log scale', style=ButtonStyle()),))"
      ]
     },
     "metadata": {},
     "output_type": "display_data"
    }
   ],
   "source": [
    "%matplotlib notebook\n",
    "%matplotlib notebook\n",
    "plt.rcParams[\"figure.figsize\"] = (10,5) \n",
    "plt.rcParams['axes.facecolor'] = 'lightgray';\n",
    "\n",
    "def on_wp2_clicked(self):\n",
    "    fig = plt.figure(facecolor='w'); ax = fig.add_subplot()\n",
    "    ax.set_xscale('log')\n",
    "    [tdata,sdata] = uconvert(t1,s1)\n",
    "    plt.plot (tdata,sdata, '.-', label = 'observation' )\n",
    "    #plt.plot (t1,s1, '.-', label = 'observation' )\n",
    "    plt.title(wheader.value)\n",
    "    plt.xlabel('time ['+dataTunits.value+']')\n",
    "    plt.ylabel('drawdown ['+dataLunits.value+']')\n",
    "    ax.grid(b=True, c='w', lw=2, ls='-')\n",
    "    plt.legend(loc = 'upper left');\n",
    "\n",
    "wp2 = widgets.Button(description='Plot log scale')        \n",
    "wp2.on_click(on_wp2_clicked)   \n",
    "widgets.VBox([wp2]) "
   ]
  },
  {
   "cell_type": "code",
   "execution_count": 10,
   "metadata": {
    "hideCode": false,
    "hidePrompt": false,
    "hide_input": true,
    "scrolled": true
   },
   "outputs": [
    {
     "data": {
      "application/vnd.jupyter.widget-view+json": {
       "model_id": "dabb98d934c04f01bb775f2e2658ec36",
       "version_major": 2,
       "version_minor": 0
      },
      "text/plain": [
       "VBox(children=(Button(description='Plot loglog scale', style=ButtonStyle()),))"
      ]
     },
     "metadata": {},
     "output_type": "display_data"
    }
   ],
   "source": [
    "%matplotlib notebook\n",
    "%matplotlib notebook\n",
    "plt.rcParams[\"figure.figsize\"] = (10,5) \n",
    "plt.rcParams['axes.facecolor'] = 'lightgray';\n",
    "\n",
    "def on_wp3_clicked(self): \n",
    "    fig = plt.figure(facecolor='w'); ax = fig.add_subplot()\n",
    "    ax.set_xscale('log'); ax.set_yscale('log')\n",
    "    [tdata,sdata] = uconvert(t1,s1)\n",
    "    plt.plot (tdata,sdata, '.-', label = 'observation' )\n",
    "    #plt.plot (t1,s1, '.-', label = 'observation' )\n",
    "    plt.title(wheader.value)\n",
    "    plt.xlabel('time ['+dataTunits.value+']')\n",
    "    plt.ylabel('drawdown ['+dataLunits.value+']')\n",
    "    ax.grid(b=True, c='w', lw=2, ls='-')\n",
    "    plt.legend(loc = 'lower right');\n",
    "\n",
    "wp3 = widgets.Button(description='Plot loglog scale')        \n",
    "wp3.on_click(on_wp3_clicked)   \n",
    "widgets.VBox([wp3]) "
   ]
  },
  {
   "cell_type": "markdown",
   "metadata": {
    "hideCode": false,
    "hidePrompt": false,
    "hide_input": false
   },
   "source": [
    "# Parameter Estimation"
   ]
  },
  {
   "cell_type": "markdown",
   "metadata": {
    "hideCode": false,
    "hidePrompt": false
   },
   "source": [
    "Enter initial guesses for $T$ and $S$! The physical unit of transmissivity is derived from the length and time settings above. "
   ]
  },
  {
   "cell_type": "code",
   "execution_count": 11,
   "metadata": {
    "hideCode": false,
    "hidePrompt": false,
    "hide_input": true,
    "scrolled": true
   },
   "outputs": [
    {
     "data": {
      "application/vnd.jupyter.widget-view+json": {
       "model_id": "68aa3b2439f441c0a4060b26e96b1ee9",
       "version_major": 2,
       "version_minor": 0
      },
      "text/plain": [
       "HBox(children=(FloatText(value=0.005, description='T:'), FloatText(value=0.0001, description='S:')))"
      ]
     },
     "metadata": {},
     "output_type": "display_data"
    }
   ],
   "source": [
    "wT = widgets.FloatText(value=5e-3, description='T:', min=1.e-10, disabled=False)\n",
    "wS = widgets.FloatText(value=1e-4, description='S:', min=1.e-10, disabled=False)\n",
    "widgets.HBox([wT, wS])"
   ]
  },
  {
   "cell_type": "markdown",
   "metadata": {
    "hideCode": false,
    "hidePrompt": false,
    "hide_input": true
   },
   "source": [
    "## Evaluation according to Theis\n",
    "\n",
    "For evaluating the pump test according to the formula of Theis click the button! The well function is computed using the exponential integral from the Python module *scipy.special*. "
   ]
  },
  {
   "cell_type": "code",
   "execution_count": 12,
   "metadata": {
    "hideCode": false,
    "hidePrompt": false,
    "hide_input": false,
    "scrolled": true
   },
   "outputs": [
    {
     "data": {
      "application/vnd.jupyter.widget-view+json": {
       "model_id": "5aec0c9cc6c64feeb216196011083abb",
       "version_major": 2,
       "version_minor": 0
      },
      "text/plain": [
       "VBox(children=(Button(description='Evaluate Theis', style=ButtonStyle()),))"
      ]
     },
     "metadata": {},
     "output_type": "display_data"
    }
   ],
   "source": [
    "from scipy.special import exp1\n",
    "from scipy.optimize import fmin\n",
    "\n",
    "def toptim (x):       \n",
    "    T = x[0]; S = x[1]; D = T/S         # calculate Theis solution\n",
    "    u = (((wr.value*wr.value)/4)/D)/tdata\n",
    "    s = wQ.value*exp1(u)/4/np.pi/T\n",
    "    res = (s-sdata)\n",
    "    return sum(res*res)                 # function f to be minimized\n",
    "\n",
    "def on_weval1_clicked(self):            # convert input data\n",
    "    global tdata,sdata\n",
    "    [tdata,sdata] = uconvert(t1,s1)\n",
    "    #tdata = tdatau.to(Tunits.value).magnitude; sdata = sdatau.to(Lunits.value).magnitude\n",
    "    r = wr.value; ru = r * ureg(Lunits.value); print('Distance between wells: ', end =\" \"); print(ru)\n",
    "    Q = wQ.value; Qu = Q * ureg(Lunits.value+'**3/'+Tunits.value); print('Pumping rate: ', end =\" \"); print(Qu)\n",
    "    T = wT.value; Tu = T * ureg(Lunits.value+'**2/'+Tunits.value); print('Transmissivity, initial guess: ', end =\" \");print(Tu)\n",
    "    S = wS.value; Su = S * ureg(''); print('Storativity, initial guess: ', end =\" \"); print(Su)\n",
    "\n",
    "    # parameter estimation---------------------------------------------------------\n",
    "    [Tfit,Sfit] = fmin (toptim, [T,S])\n",
    "    T = Tfit * ureg(Lunits.value+'**2/'+Tunits.value) \n",
    "    S = Sfit * ureg('') \n",
    "\n",
    "    # post-processing--------------------------------------------------------------   \n",
    "    D = Tfit/Sfit #print ('Diffusivity = '+ str(D * ureg(Lunits.value+'**2/'+Tunits.value)))\n",
    "    u = (((r*r)/4)/D)/tdata\n",
    "    s = Q*exp1(u)/4/np.pi/Tfit\n",
    "    dev = sdata-s     \n",
    "    dev2 = dev*dev; res = np.sqrt(sum(dev2)) \n",
    "    stde = np.sqrt(dev2.mean())\n",
    "    sr = 2*dev.std()                            # to compare with hytool !\n",
    "    fig = plt.figure(facecolor='w'); ax = fig.add_subplot()\n",
    "    ax.set_xscale('log')\n",
    "    plt.plot(tdata,sdata,'o',label = 'measured') \n",
    "    t = np.logspace(np.log10(tdata.min()),np.log10(tdata.max()),100)\n",
    "    u = (((r*r)/4)/D)/t\n",
    "    plt.plot(t,Q*exp1(u)/4/np.pi/Tfit,'-', label = 'modelled', lw = 2)\n",
    "    plt.xlabel('t ['+Tunits.value+']'); plt.ylabel('s ['+Lunits.value+']')\n",
    "    plt.title (wheader.value)\n",
    "    ax.grid(b=True, c='w', lw=2, ls='-')\n",
    "    plt.legend ()\n",
    "    xtext = 0.1*tdata.max()\n",
    "    ax.text (xtext,0.5*s1.max(),'$T =%.3e %s ^2/ %s $' % (Tfit,Lunits.value,Tunits.value))\n",
    "    ax.text (xtext,0.4*s1.max(),'$S =%.3e $' % (Sfit, ))\n",
    "    ax.text (xtext,0.3*s1.max(),'$res = %.3e $' % (res, ))\n",
    "    ax.text (xtext,0.2*s1.max(),'$stdev =%.3e $' % (stde, ));\n",
    "    ax.text (xtext,0.1*s1.max(),'$2stdev =%.3e $' % (sr, ));\n",
    "    \n",
    "weval1 = widgets.Button(description='Evaluate Theis')        \n",
    "weval1.on_click(on_weval1_clicked)   \n",
    "widgets.VBox([weval1])    "
   ]
  },
  {
   "cell_type": "markdown",
   "metadata": {
    "hideCode": false,
    "hidePrompt": false
   },
   "source": [
    "## Evaluation according to Hantush\n",
    "For the evaluation according to Hantush enter an initial guess for the semi-permeable layer resistence. Use the time unit specified above."
   ]
  },
  {
   "cell_type": "code",
   "execution_count": 13,
   "metadata": {
    "hideCode": false,
    "hidePrompt": false,
    "hide_input": true,
    "scrolled": true
   },
   "outputs": [
    {
     "data": {
      "application/vnd.jupyter.widget-view+json": {
       "model_id": "11dd23adcaa34e00a8d81821cb731084",
       "version_major": 2,
       "version_minor": 0
      },
      "text/plain": [
       "HBox(children=(FloatText(value=100000000.0, description='c:'),))"
      ]
     },
     "metadata": {},
     "output_type": "display_data"
    }
   ],
   "source": [
    "wc = widgets.FloatText(value=1e8, description='c:', min=1.e-10, disabled=False)\n",
    "widgets.HBox([wc])"
   ]
  },
  {
   "cell_type": "markdown",
   "metadata": {
    "hideCode": false,
    "hidePrompt": false
   },
   "source": [
    "The Hantush well function is computed following Maas & Veling (2010) and Veling & Maas (2010), using the exponential integral from the Python module *scipy.special*. For evaluating the pump test according to the formula of Hantush click the button!"
   ]
  },
  {
   "cell_type": "code",
   "execution_count": 14,
   "metadata": {
    "hideCode": false,
    "hidePrompt": false,
    "hide_input": true,
    "scrolled": true
   },
   "outputs": [
    {
     "data": {
      "application/vnd.jupyter.widget-view+json": {
       "model_id": "1831b0df747a4267868ac063114063f0",
       "version_major": 2,
       "version_minor": 0
      },
      "text/plain": [
       "VBox(children=(Button(description='Evaluate Hantush', style=ButtonStyle()),))"
      ]
     },
     "metadata": {},
     "output_type": "display_data"
    }
   ],
   "source": [
    "from scipy.special import exp1\n",
    "from scipy.special import kn as BesselK\n",
    "from scipy.optimize import fmin  #fmin_l_bfgs_b\n",
    "\n",
    "def heval (t,r,T,S,c,Q):\n",
    "    T0  = np.where(T>1.e-10,T,1.e-10) \n",
    "    S0  = np.where(S>1.e-10,S,1.e-10)\n",
    "    c0  = np.where(c>1.e-10,c,1.e-10)\n",
    "    lamda = np.sqrt(T0*c0)\n",
    "    rho = r/lamda\n",
    "    tau = np.log(2*lamda/r*t/(c0*S0))\n",
    "    s = Q/(4*np.pi*T0)*func_F(rho,tau)\n",
    "    return s                            # drawdown \n",
    "\n",
    "def func_F(rho,tau):\n",
    "    # func_F is a fast approximation of Hantush well function W\n",
    "    e = exp1(rho)\n",
    "    e0 = np.where(e>0,e,1.e-10)\n",
    "    w = (e0-BesselK(0,rho))/(e0-exp1(rho/2))\n",
    "    #if tau <= 0:\n",
    "    F0 = w*exp1(rho/2*np.exp(-tau))-(w-1)*exp1(rho*np.cosh(tau))\n",
    "    #else:   \n",
    "    F1 = 2*BesselK(0,rho) - w*exp1(rho/2*np.exp(tau)) + (w-1)*exp1(rho*np.cosh(tau))   \n",
    "    return (tau<=0)*F0+(tau>0)*F1     \n",
    "\n",
    "def optim (x):  \n",
    "    T = x[0]; S = x[1]; c = x[2] \n",
    "    s = heval (tdata,wr.value,T,S,c,wQ.value)\n",
    "    res = (s-sdata)\n",
    "    return sum(res*res)\n",
    "\n",
    "def on_weval2_clicked(self):   \n",
    "    global tdata,sdata\n",
    "    [tdata,sdata] = uconvert(t1,s1)\n",
    "    r = wr.value; ru = r * ureg(Lunits.value); print('Distance between wells: ', end =\" \"); print(ru)\n",
    "    Q = wQ.value; Qu = Q * ureg(Lunits.value+'**3/'+Tunits.value); print('Pumping rate: ', end =\" \"); print(Qu)\n",
    "    T = wT.value; Tu = T * ureg(Lunits.value+'**2/'+Tunits.value); print('Transmissivity, initial guess: ', end =\" \");print(Tu)\n",
    "    S = wS.value; Su = S * ureg(''); print('Storativity, initial guess: ', end =\" \"); print(Su)\n",
    "    c = wc.value; cu = c * ureg(Tunits.value); print('Resistence, initial guess: ', end =\" \"); print(cu)\n",
    "\n",
    "    # parameter estimation \n",
    "    #x = fmin_l_bfgs_b(optim, [T,S,c], approx_grad=1, bounds=((1.e-10, 1.e10), (1.e-10, 1.e10), (1.e-10, 1.e10)))   \n",
    "    #Tfit = x[0][0]; Sfit = x[0][1]; cfit = x[0][2]\n",
    "    [Tfit,Sfit,cfit] = fmin (optim, [T,S,c])\n",
    "    T = Tfit * ureg(Lunits.value+'**2/'+Tunits.value) \n",
    "    S = Sfit * ureg('') \n",
    "    c = cfit * ureg(Tunits.value)\n",
    "\n",
    "    # post-processing--------------------------------------------------------------   \n",
    "    D = T/S #print ('D='+str(D))\n",
    "    s = heval (tdata,r,Tfit,Sfit,cfit,Q)\n",
    "    dev = sdata-s                             #sfit-s \n",
    "    dev2 = dev*dev; res = np.sqrt(sum(dev2)) \n",
    "    stde = np.sqrt(dev2.mean())\n",
    "    sr = 2*dev.std()                            # to compare with hytool !\n",
    "    fig = plt.figure(facecolor='w'); ax = fig.add_subplot()\n",
    "    ax.set_xscale('log')\n",
    "    plt.plot(tdata,sdata,'o',label = 'measured') \n",
    "    t = np.logspace(np.log10(tdata.min()),np.log10(tdata.max()),100)\n",
    "    plt.plot(t,heval(t,r,Tfit,Sfit,cfit,Q),'-', label = 'modelled', lw = 2)\n",
    "    plt.xlabel('t ['+Tunits.value+']'); plt.ylabel('s ['+Lunits.value+']')\n",
    "    plt.title (wheader.value)\n",
    "    ax.grid(b=True, c='w', lw=2, ls='-')\n",
    "    plt.legend ()\n",
    "    xtext = 0.1*tdata.max()\n",
    "    ax.text (xtext,0.5*s1.max(),'$T =%.3e %s ^2/ %s $' % (Tfit,Lunits.value,Tunits.value))\n",
    "    ax.text (xtext,0.4*s1.max(),'$S =%.3e $' % (Sfit, ))\n",
    "    ax.text (xtext,0.3*s1.max(),'$c =%.3e %s $' % (cfit,Tunits.value))\n",
    "    ax.text (xtext,0.2*s1.max(),'$res = %.3e $' % (res, ))\n",
    "    ax.text (xtext,0.1*s1.max(),'$stdev = %.3e $' % (stde, ))\n",
    "    ax.text (xtext,0,'$2stdev =%.3e $' % (sr, ));\n",
    "    \n",
    "weval2 = widgets.Button(description='Evaluate Hantush')        \n",
    "weval2.on_click(on_weval2_clicked)   \n",
    "widgets.VBox([weval2])"
   ]
  },
  {
   "cell_type": "markdown",
   "metadata": {
    "hideCode": false,
    "hidePrompt": false
   },
   "source": [
    "# References"
   ]
  },
  {
   "cell_type": "markdown",
   "metadata": {
    "hideCode": false,
    "hidePrompt": false
   },
   "source": [
    "* Hantush M.S., Flow of groundwater in relatively thick leaky aquifers, Water Res. Res., Vol. 3(2), 583-590, 1967\n",
    "* Hantush M.S., Jacob C.E., Non-steady radial flow in an infinite leaky aquifer, Trans. Am. Geophys. Union, Vol. 36, 95-100, 1955\n",
    "* Hantush M.S., Analysis of data from pumping tests in leaky aquifers, EOS, Vol. 37(6), 702-714, 1956\n",
    "* Maas C., Veling E.J.M., Een snelle benadering van de formuke van Hantush, Stromingen, Vol. 6(1), 60-69, 2010\n",
    "* Veling E.J.M, Maas C., Hantush well function revisited, Journal of Hydrology, Vol. 393(3), 381-388, 2010 \n",
    "* Theis C.V., The relation between the lowering of the piezometric surface and the rate and duration of discharge of a well using ground-water storage, Groundwater Notes Hydraulics, No. 5, 10p, 1952"
   ]
  }
 ],
 "metadata": {
  "hide_code_all_hidden": false,
  "hide_input": true,
  "kernelspec": {
   "display_name": "Python 3",
   "language": "python",
   "name": "python3"
  },
  "language_info": {
   "codemirror_mode": {
    "name": "ipython",
    "version": 3
   },
   "file_extension": ".py",
   "mimetype": "text/x-python",
   "name": "python",
   "nbconvert_exporter": "python",
   "pygments_lexer": "ipython3",
   "version": "3.7.6"
  },
  "toc": {
   "base_numbering": 1,
   "nav_menu": {},
   "number_sections": true,
   "sideBar": true,
   "skip_h1_title": false,
   "title_cell": "Table of Contents",
   "title_sidebar": "Contents",
   "toc_cell": true,
   "toc_position": {},
   "toc_section_display": true,
   "toc_window_display": true
  },
  "varInspector": {
   "cols": {
    "lenName": 16,
    "lenType": 16,
    "lenVar": 40
   },
   "kernels_config": {
    "python": {
     "delete_cmd_postfix": "",
     "delete_cmd_prefix": "del ",
     "library": "var_list.py",
     "varRefreshCmd": "print(var_dic_list())"
    },
    "r": {
     "delete_cmd_postfix": ") ",
     "delete_cmd_prefix": "rm(",
     "library": "var_list.r",
     "varRefreshCmd": "cat(var_dic_list()) "
    }
   },
   "position": {
    "height": "461.85px",
    "left": "660px",
    "right": "20px",
    "top": "187px",
    "width": "626px"
   },
   "types_to_exclude": [
    "module",
    "function",
    "builtin_function_or_method",
    "instance",
    "_Feature"
   ],
   "window_display": false
  }
 },
 "nbformat": 4,
 "nbformat_minor": 4
}
